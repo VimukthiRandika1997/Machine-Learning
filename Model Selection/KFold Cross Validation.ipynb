{
 "cells": [
  {
   "cell_type": "code",
   "execution_count": 7,
   "id": "ca7a9daf",
   "metadata": {},
   "outputs": [
    {
     "name": "stdout",
     "output_type": "stream",
     "text": [
      "[ 0  1  3  4  5  6  7  8 10] [ 2  9 11]\n",
      "[ 0  2  3  4  7  8  9 10 11] [1 5 6]\n",
      "[ 1  2  3  4  5  6  8  9 10 11] [0 7]\n",
      "[ 0  1  2  3  5  6  7  9 10 11] [4 8]\n",
      "[ 0  1  2  4  5  6  7  8  9 11] [ 3 10]\n"
     ]
    }
   ],
   "source": [
    "from sklearn.model_selection import KFold\n",
    "X = range(12) # Dummy dataset\n",
    "kf = KFold(5, shuffle=True)  # No.of buckets k = 3\n",
    "\n",
    "for train, test in kf.split(X):\n",
    "    print(train, test)"
   ]
  },
  {
   "cell_type": "markdown",
   "id": "0ebc2492",
   "metadata": {},
   "source": [
    "Randomization is used to avoid any hint of a bias"
   ]
  },
  {
   "cell_type": "code",
   "execution_count": 9,
   "id": "a6df82fa",
   "metadata": {},
   "outputs": [
    {
     "data": {
      "text/plain": [
       "KFold(n_splits=5, random_state=None, shuffle=True)"
      ]
     },
     "execution_count": 9,
     "metadata": {},
     "output_type": "execute_result"
    }
   ],
   "source": [
    "kf"
   ]
  },
  {
   "cell_type": "code",
   "execution_count": 10,
   "id": "5e0ba4d9",
   "metadata": {},
   "outputs": [
    {
     "data": {
      "text/plain": [
       "'(n_splits=5, *, shuffle=False, random_state=None)'"
      ]
     },
     "execution_count": 10,
     "metadata": {},
     "output_type": "execute_result"
    }
   ],
   "source": [
    "from inspect import signature\n",
    "str(signature(KFold))"
   ]
  }
 ],
 "metadata": {
  "kernelspec": {
   "display_name": "Python 3 (ipykernel)",
   "language": "python",
   "name": "python3"
  },
  "language_info": {
   "codemirror_mode": {
    "name": "ipython",
    "version": 3
   },
   "file_extension": ".py",
   "mimetype": "text/x-python",
   "name": "python",
   "nbconvert_exporter": "python",
   "pygments_lexer": "ipython3",
   "version": "3.8.10"
  }
 },
 "nbformat": 4,
 "nbformat_minor": 5
}
