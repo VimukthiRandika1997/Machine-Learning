{
 "cells": [
  {
   "cell_type": "code",
   "execution_count": null,
   "id": "6090b904",
   "metadata": {},
   "outputs": [],
   "source": [
    "from sklearn.datasets import fetch_openml\n",
    "mnist = fetch_openml('mnist_784', version=1)\n",
    "mnist.keys()"
   ]
  },
  {
   "cell_type": "code",
   "execution_count": null,
   "id": "ae143419",
   "metadata": {},
   "outputs": [],
   "source": [
    "X, y = mnist[\"data\"], mnist[\"target\"]\n",
    "print(X.shape)\n",
    "print(y.shape)"
   ]
  },
  {
   "cell_type": "code",
   "execution_count": 80,
   "id": "10fccd8c",
   "metadata": {},
   "outputs": [
    {
     "data": {
      "image/png": "[encoded data removed]",
      "text/plain": [
       "<Figure size 432x288 with 1 Axes>"
      ]
     },
     "metadata": {
      "needs_background": "light"
     },
     "output_type": "display_data"
    }
   ],
   "source": [
    "import matplotlib as mpl\n",
    "import matplotlib.pyplot as plt\n",
    "\n",
    "some_digit = X.iloc[0]\n",
    "some_digit_image = some_digit.values.reshape(28, 28)\n",
    "\n",
    "plt.imshow(some_digit_image, cmap=\"binary\")\n",
    "plt.axis(\"off\")\n",
    "plt.show()"
   ]
  },
  {
   "cell_type": "code",
   "execution_count": null,
   "id": "bcb367bc",
   "metadata": {},
   "outputs": [],
   "source": [
    "# Corresponding labelfor above digit\n",
    "y[0]"
   ]
  },
  {
   "cell_type": "code",
   "execution_count": null,
   "id": "f0f1093f",
   "metadata": {},
   "outputs": [],
   "source": [
    "import numpy as np\n",
    "# y label is a string, ML algorithms expect numbers\n",
    "# Converting into an integer\n",
    "y = y.astype(np.uint8)"
   ]
  },
  {
   "cell_type": "code",
   "execution_count": null,
   "id": "388e2413",
   "metadata": {},
   "outputs": [],
   "source": [
    "# MNIST dataset is already split into training set & testing set\n",
    "# This is training set is already shuffled for us, which guarantees that all cross-validation folds will be similar.\n",
    "X_train, X_test, y_train, y_test = X[:60000], X[60000:], y[:60000], y[60000:]"
   ]
  },
  {
   "cell_type": "markdown",
   "id": "67d58fe5",
   "metadata": {},
   "source": [
    "Moreover, some learning algorithms are sensitive to the order of the training instances, and then perform poorly if they get many similar instances in a row. But shuffling may be a bad idea in some contexts - If we are dealing with time series data (stock market prices or weather predictions)"
   ]
  },
  {
   "cell_type": "markdown",
   "id": "91675858",
   "metadata": {},
   "source": [
    "# Training a Binary Classifier"
   ]
  },
  {
   "cell_type": "code",
   "execution_count": null,
   "id": "9efff70e",
   "metadata": {},
   "outputs": [],
   "source": [
    "# Binary classifier - '5 detector'\n",
    "# capable of distinguishing between two classes -> '5' or 'not 5'\n",
    "y_train_5 = (y_train == 5)\n",
    "y_test_5 = (y_test == 5)"
   ]
  },
  {
   "cell_type": "code",
   "execution_count": null,
   "id": "7324bee0",
   "metadata": {},
   "outputs": [],
   "source": [
    "# Classifier -> Stochastic Gradient Descent(SGD) classifier\n",
    "# Suite for handling very large datasets efficiently.\n",
    "from sklearn.linear_model import SGDClassifier\n",
    "\n",
    "sgd_clf = SGDClassifier(random_state=42)\n",
    "sgd_clf.fit(X_train, y_train_5)"
   ]
  },
  {
   "cell_type": "markdown",
   "id": "2d2c0251",
   "metadata": {},
   "source": [
    "SGDClassifier relies on randomness during training. If we want reproducible results, we need to set the random_state parameter"
   ]
  },
  {
   "cell_type": "code",
   "execution_count": null,
   "id": "bd475c87",
   "metadata": {},
   "outputs": [],
   "source": [
    "sgd_clf.predict([some_digit])"
   ]
  },
  {
   "cell_type": "markdown",
   "id": "97b10eee",
   "metadata": {},
   "source": [
    "## Performance Measures"
   ]
  },
  {
   "cell_type": "markdown",
   "id": "fd329c63",
   "metadata": {},
   "source": [
    "### Measuring Accuracy Using Cross-Validation"
   ]
  },
  {
   "cell_type": "code",
   "execution_count": null,
   "id": "b3e2f1c1",
   "metadata": {},
   "outputs": [],
   "source": [
    "# Implementing cross validation by hand instead of Scikit-Learn's cross_val_score() function\n",
    "# This gives us more control!\n",
    "\n",
    "from sklearn.model_selection import StratifiedKFold\n",
    "from sklearn.base import clone\n",
    "\n",
    "skfolds = StratifiedKFold(n_splits=3)\n",
    "\n",
    "for train_index, test_index in skfolds.split(X_train, y_train_5):\n",
    "    clone_clf = clone(sgd_clf)\n",
    "    X_train_folds = X_train[train_index]\n",
    "    y_train_folds = y_train_5[train_index]\n",
    "    X_test_fold = X_train[test_index]\n",
    "    y_test_fold = y_train[test_index]\n",
    "    \n",
    "    clone_clf.fit(X_train_folds, y_train_folds)\n",
    "    y_pred = clone_clf.predict(X_test_fold)\n",
    "    n_correct = sum(y_pred == y_test_fold)\n",
    "    print(n_correct / len(y_pred))"
   ]
  },
  {
   "cell_type": "code",
   "execution_count": null,
   "id": "cbd942b6",
   "metadata": {},
   "outputs": [],
   "source": [
    "# Using cross_val_score() function\n",
    "from sklearn.model_selection import cross_val_score\n",
    "cross_val_score(sgd_clf, X_train, y_train_5, cv=3, scoring=\"accuracy\")"
   ]
  },
  {
   "cell_type": "markdown",
   "id": "821b6024",
   "metadata": {},
   "source": [
    "Abobe gives us 95% accuracy!, is it right ???"
   ]
  },
  {
   "cell_type": "code",
   "execution_count": null,
   "id": "d2cced64",
   "metadata": {},
   "outputs": [],
   "source": [
    "# Dumb classifier -> classify every digit as 'not 5'\n",
    "from sklearn.base import BaseEstimator\n",
    "\n",
    "class Never5Classifier(BaseEstimator):\n",
    "    def fit(self, X, y=None):\n",
    "        return self\n",
    "    def predict(self, X):\n",
    "        return np.zeros((len(X), 1), dtype=bool)\n",
    "    \n",
    "never_5_clf = Never5Classifier()\n",
    "cross_val_score(never_5_clf, X_train, y_train_5, cv=3, scoring=\"accuracy\")"
   ]
  },
  {
   "cell_type": "markdown",
   "id": "1e5aa365",
   "metadata": {},
   "source": [
    "This has a 90% accuracy! , This is due to only 10% of the images are 5s. Hence if the model guess that an image is not 5, it will be right about 90% of the time.\n",
    "\n",
    "**Hence accuracy is generally not a good performance measure for classifiers, specially when we have skewed datasets (*some classes are much more frequent than others* )**"
   ]
  },
  {
   "cell_type": "markdown",
   "id": "781c9333",
   "metadata": {},
   "source": [
    "### Confusion Matrix\n",
    "\n",
    "General idea is to count the number of times instances of class A are classified as class B."
   ]
  },
  {
   "cell_type": "code",
   "execution_count": 65,
   "id": "47c1ce91",
   "metadata": {},
   "outputs": [],
   "source": [
    "# To compute confusion matrix, first need to have a set of predictions which can be compared to actual targets\n",
    "from sklearn.model_selection import cross_val_predict\n",
    "\n",
    "# this function first performs K-Fold cross-validation\n",
    "# then returns the predicitons made on each test fold, instead of evaluations scores\n",
    "y_train_pred = cross_val_predict(sgd_clf, X_train, y_train_5, cv=3)"
   ]
  },
  {
   "cell_type": "code",
   "execution_count": 66,
   "id": "3ea6cf05",
   "metadata": {},
   "outputs": [
    {
     "data": {
      "text/plain": [
       "array([[53892,   687],\n",
       "       [ 1891,  3530]])"
      ]
     },
     "execution_count": 66,
     "metadata": {},
     "output_type": "execute_result"
    }
   ],
   "source": [
    "# Now calculate the confusion matrix\n",
    "from sklearn.metrics import confusion_matrix\n",
    "confusion_matrix(y_train_5, y_train_pred)"
   ]
  },
  {
   "cell_type": "markdown",
   "id": "93602983",
   "metadata": {},
   "source": [
    "- *53,892 are correctly classified as 'not-5'* -> **True Negatives**\n",
    "- *687 are wrongly classified as '5s'* -> **False Positives**\n",
    "- *1891 are wrongly classified as 'not-5'* -> **Fasle Negative**\n",
    "- *3530 are correctly classified as '5s'* -> **True Positive**\n",
    "\n",
    "A perfect classifier would have only true positives and true negatives, so its confusion matrix would have non-zero values only on its main diagonal."
   ]
  },
  {
   "cell_type": "code",
   "execution_count": 67,
   "id": "9703d839",
   "metadata": {},
   "outputs": [
    {
     "data": {
      "text/plain": [
       "array([[54579,     0],\n",
       "       [    0,  5421]])"
      ]
     },
     "execution_count": 67,
     "metadata": {},
     "output_type": "execute_result"
    }
   ],
   "source": [
    "y_train_perfect_predictions = y_train_5 # pretend we reached perfections\n",
    "confusion_matrix(y_train_5, y_train_perfect_predictions)"
   ]
  },
  {
   "cell_type": "markdown",
   "id": "360adcf1",
   "metadata": {},
   "source": [
    "Concise metrics are somewhat important!\n",
    "\n",
    "- **Precision** -> the accuracy of the positive predictions\n",
    "- precision = TP / TP + FP\n",
    "\n",
    "- **Recall** -> sensitivity or true positive rate, the ratio of positive instances that are correctly detected by the classifier\n",
    "\n",
    "- recall = TP / TP + FN"
   ]
  },
  {
   "cell_type": "code",
   "execution_count": 72,
   "id": "b6fb29a9",
   "metadata": {},
   "outputs": [
    {
     "data": {
      "text/plain": [
       "0.8370879772350012"
      ]
     },
     "execution_count": 72,
     "metadata": {},
     "output_type": "execute_result"
    }
   ],
   "source": [
    "# Built-in methods in Scikit-Learn\n",
    "from sklearn.metrics import precision_score, recall_score\n",
    "precision_score(y_train_5, y_train_pred)\n"
   ]
  },
  {
   "cell_type": "markdown",
   "id": "1a019e4a",
   "metadata": {},
   "source": [
    "When the model claims an image represents a 5, it is correct 83.7% of the time."
   ]
  },
  {
   "cell_type": "code",
   "execution_count": 73,
   "id": "71ac3741",
   "metadata": {},
   "outputs": [
    {
     "data": {
      "text/plain": [
       "0.6511713705958311"
      ]
     },
     "execution_count": 73,
     "metadata": {},
     "output_type": "execute_result"
    }
   ],
   "source": [
    "recall_score(y_train_5, y_train_pred)"
   ]
  },
  {
   "cell_type": "markdown",
   "id": "efc64cf0",
   "metadata": {},
   "source": [
    "The model only detects 65.12% of the 5s"
   ]
  },
  {
   "cell_type": "markdown",
   "id": "9275813c",
   "metadata": {},
   "source": [
    "It is often good to combine precision and recall into a single metric called **F1 score**, which can be used to compare two classifiers. \n",
    "\n",
    "F1 score is *harmonic mean* of precision and recall. Whereas the regular mean treats all values equally, the harmonic mean gives much more weights to low values. As a result, **the classifier will only get a high F1 score if both precision and recall are high**.\n",
    "\n",
    "F1 =  2 * (precision x recall) / (precision + recall)"
   ]
  },
  {
   "cell_type": "code",
   "execution_count": 74,
   "id": "cf53caa4",
   "metadata": {},
   "outputs": [
    {
     "data": {
      "text/plain": [
       "0.7325171197343846"
      ]
     },
     "execution_count": 74,
     "metadata": {},
     "output_type": "execute_result"
    }
   ],
   "source": [
    "# computing F1 score\n",
    "from sklearn.metrics import f1_score\n",
    "f1_score(y_train_5, y_train_pred)"
   ]
  },
  {
   "cell_type": "markdown",
   "id": "75d1440b",
   "metadata": {},
   "source": [
    "### Precision/Recall Trade-off"
   ]
  },
  {
   "cell_type": "code",
   "execution_count": 77,
   "id": "d5286f3c",
   "metadata": {},
   "outputs": [
    {
     "data": {
      "text/plain": [
       "array([ True])"
      ]
     },
     "execution_count": 77,
     "metadata": {},
     "output_type": "execute_result"
    }
   ],
   "source": [
    "# Decision Score -> based on a threshold\n",
    "# If the score > threshold -> instance is assigned to positive class\n",
    "# Otherwise negative class\n",
    "\n",
    "# Returns score for each instance\n",
    "y_scores = sgd_clf.decision_function([some_digit])\n",
    "y_scores\n",
    "\n",
    "threshold = 0\n",
    "y_some_digit_pred = (y_scores > threshold)\n",
    "y_some_digit_pred"
   ]
  },
  {
   "cell_type": "code",
   "execution_count": 78,
   "id": "1d6787f2",
   "metadata": {},
   "outputs": [
    {
     "data": {
      "text/plain": [
       "array([False])"
      ]
     },
     "execution_count": 78,
     "metadata": {},
     "output_type": "execute_result"
    }
   ],
   "source": [
    "# Let's raise the threshold value\n",
    "threshold = 8000\n",
    "y_some_digit_pred = (y_scores > threshold)\n",
    "y_some_digit_pred"
   ]
  },
  {
   "cell_type": "markdown",
   "id": "36e61936",
   "metadata": {},
   "source": [
    "This confirms that raising the threshold decreases recall. This image contains a 5, and classifier detects it when the threshold is 0, but it misses it when the threshold is increased to 8000. **How do we decide the threshold?**"
   ]
  },
  {
   "cell_type": "code",
   "execution_count": 85,
   "id": "d8c86405",
   "metadata": {},
   "outputs": [],
   "source": [
    "# Using cross_val_predict() to get the scores of all instances in the training set\n",
    "# But specifying to return decision scores instead of predictions\n",
    "y_scores = cross_val_predict(sgd_clf, X_train, y_train_5, cv=3,\n",
    "                            method=\"decision_function\")"
   ]
  },
  {
   "cell_type": "code",
   "execution_count": 86,
   "id": "5a3957c0",
   "metadata": {},
   "outputs": [
    {
     "data": {
      "image/png": "[encoded data removed]",
      "text/plain": [
       "<Figure size 432x288 with 1 Axes>"
      ]
     },
     "metadata": {
      "needs_background": "light"
     },
     "output_type": "display_data"
    }
   ],
   "source": [
    "# With these scores, use precision_recall_curve() to compute precision and recall for all possible thresholds\n",
    "\n",
    "from sklearn.metrics import precision_recall_curve\n",
    "precisions, recalls, thresholds = precision_recall_curve(y_train_5, y_scores)\n",
    "\n",
    "def plot_precision_recall_vs_threshold(precisions, recalls, thresholds):\n",
    "    plt.plot(thresholds, precisions[:-1], \"b--\", label=\"Precision\")\n",
    "    plt.plot(thresholds, recalls[:-1], \"g--\", label=\"Recall\")\n",
    "    \n",
    "plot_precision_recall_vs_threshold(precisions, recalls, thresholds)\n",
    "plt.legend()\n",
    "plt.show()"
   ]
  },
  {
   "cell_type": "markdown",
   "id": "2a0a7850",
   "metadata": {},
   "source": [
    "The precision curve is bumpier than recall curve, because the precision may sometimes go down when we raise the threshold."
   ]
  },
  {
   "cell_type": "code",
   "execution_count": 97,
   "id": "1c118d52",
   "metadata": {},
   "outputs": [
    {
     "data": {
      "image/png": "[encoded data removed]",
      "text/plain": [
       "<Figure size 432x288 with 1 Axes>"
      ]
     },
     "metadata": {
      "needs_background": "light"
     },
     "output_type": "display_data"
    }
   ],
   "source": [
    "# Another method -> plotting precsion directly against recall\n",
    "# Precision vs recall curve\n",
    "\n",
    "def plot_precision_vs_recall_curve(precisions, recalls):\n",
    "    #create precision recall curve\n",
    "    fig, ax = plt.subplots()\n",
    "    ax.plot(recalls, precisions, color='purple')\n",
    "    \n",
    "    # add axis labels to plot\n",
    "    ax.set_title('Precision-Recall Curve')\n",
    "    ax.set_ylabel('Precision')\n",
    "    ax.set_xlabel('Recall')\n",
    "    \n",
    "    # display plt\n",
    "    plt.show()\n",
    "    \n",
    "plot_precision_vs_recall_curve(precisions, recalls)"
   ]
  },
  {
   "cell_type": "markdown",
   "id": "4409a214",
   "metadata": {},
   "source": [
    "### ROC Curve\n",
    "\n",
    "Roc curve plots the true positive rate(recall) against flase postive rate(FPR).\n",
    "\n",
    "**FPR = 1 - TNR**\n",
    "\n",
    "TNR is also called **specificity**. Hence, the ROC curve plots **sensitivity**(recall) vs 1 - specificity."
   ]
  },
  {
   "cell_type": "code",
   "execution_count": 94,
   "id": "268aeb27",
   "metadata": {},
   "outputs": [
    {
     "data": {
      "image/png": "[encoded data removed]",
      "text/plain": [
       "<Figure size 432x288 with 1 Axes>"
      ]
     },
     "metadata": {
      "needs_background": "light"
     },
     "output_type": "display_data"
    }
   ],
   "source": [
    "from sklearn.metrics import roc_curve\n",
    "\n",
    "fpr, tpr, thresholds = roc_curve(y_train_5, y_scores)\n",
    "\n",
    "def plot_roc_curve(fpr, tpr, label=None):\n",
    "    plt.plot(fpr, tpr, linewidth=2, label=label)\n",
    "    plt.plot([0, 1], [0, 1], 'k--') # Dashed diagonal\n",
    "    plt.xlabel('False Positive Rate')\n",
    "    plt.ylabel('True Positive Rate (Recall)')\n",
    "\n",
    "plot_roc_curve(fpr, tpr)\n",
    "plt.show()"
   ]
  },
  {
   "cell_type": "markdown",
   "id": "102525d9",
   "metadata": {},
   "source": [
    "There is a trade-off- the higher the recall(TPR), the more flase positives(FPR) the classifier produces. The dotted line represents the ROC curve of a purely random classifier. So a good classifier stays as far away from that line as possible"
   ]
  },
  {
   "cell_type": "markdown",
   "id": "12d81956",
   "metadata": {},
   "source": [
    "One way to compare classifiers is to measure the **area under the curve (AUC)**. A perfect classifier will have a ROC AUC = 1, whereas a puerly random classifier will have ROC AUC = 0.5."
   ]
  },
  {
   "cell_type": "code",
   "execution_count": 95,
   "id": "a424ae20",
   "metadata": {},
   "outputs": [
    {
     "data": {
      "text/plain": [
       "0.9604938554008616"
      ]
     },
     "execution_count": 95,
     "metadata": {},
     "output_type": "execute_result"
    }
   ],
   "source": [
    "from sklearn.metrics import roc_auc_score\n",
    "roc_auc_score(y_train_5, y_scores)"
   ]
  },
  {
   "cell_type": "markdown",
   "id": "ae9f99d1",
   "metadata": {},
   "source": [
    "- Prefer PR curve ->  1. whenever positive class is rare or when we care more about false positives than false negatives.\n",
    "\n",
    "- Otherwise, ROC curve"
   ]
  },
  {
   "cell_type": "code",
   "execution_count": 98,
   "id": "6891ece2",
   "metadata": {},
   "outputs": [],
   "source": [
    "# Train a RandomForestClassifier and compare its ROC curve and ROC AOC score to those of the SGDClassifier\n",
    "from sklearn.ensemble import RandomForestClassifier\n",
    "\n",
    "forest_clf = RandomForestClassifier(random_state=42)\n",
    "y_probas_forest = cross_val_predict(forest_clf, X_train, y_train_5, cv=3,\n",
    "                                   method=\"predict_proba\")"
   ]
  },
  {
   "cell_type": "code",
   "execution_count": 106,
   "id": "6bbc5c2b",
   "metadata": {},
   "outputs": [
    {
     "data": {
      "image/png": "[encoded data removed]",
      "text/plain": [
       "<Figure size 432x288 with 1 Axes>"
      ]
     },
     "metadata": {
      "needs_background": "light"
     },
     "output_type": "display_data"
    }
   ],
   "source": [
    "# Let's use the positive class's probability as the score\n",
    "y_scores_forest = y_probas_forest[:, 1]\n",
    "fpr_forest, tpr_forest, threshold_forest = roc_curve(y_train_5, y_scores_forest)\n",
    "\n",
    "# Plot the ROC curve\n",
    "plt.plot(fpr, tpr, \"b:\", label=\"SGD\")\n",
    "plot_roc_curve(fpr_forest, tpr_forest, \"Random Forest\")\n",
    "plt.legend(loc=\"lower right\")\n",
    "plt.show()"
   ]
  },
  {
   "cell_type": "markdown",
   "id": "e945e8cf",
   "metadata": {},
   "source": [
    "RandomForestClassifier's ROC curve looks much better than SGDClassifier's - it comes much closer to the top-left corner.\n",
    "As a result, its ROC AUC score is also significantly better"
   ]
  },
  {
   "cell_type": "code",
   "execution_count": 107,
   "id": "3c150077",
   "metadata": {},
   "outputs": [
    {
     "data": {
      "text/plain": [
       "0.9983436731328145"
      ]
     },
     "execution_count": 107,
     "metadata": {},
     "output_type": "execute_result"
    }
   ],
   "source": [
    "roc_auc_score(y_train_5, y_scores_forest)"
   ]
  },
  {
   "cell_type": "markdown",
   "id": "4f310932",
   "metadata": {},
   "source": [
    "# Multiclass Classification\n",
    "\n",
    "Whereas binary classifiers distinguish between two classes, multiclass classifiers (also called *multinomial classifiers*) **can distinguish between more than two classes.**\n",
    "\n",
    "Some algorithms (SGD classifiers, Random Forest classifiers, Naive Bayes classifiers) are capable of handling multiple classes natively.\n",
    "\n",
    "Others (Logisitic Regression, SVM) are strickly binary classifiers. But there are techniques available to get around it."
   ]
  },
  {
   "cell_type": "markdown",
   "id": "7eb643d4",
   "metadata": {},
   "source": [
    "### One-versus-the-rest (OvR) strategy -> one-versus-all\n",
    "\n",
    "Train **n binary classifiers** to classify **n classes**.\n",
    "\n",
    "Then when we want to classify an instance (data point), get the decision score from each classifier for that instance and select the class whose classifier outputs the highest score."
   ]
  },
  {
   "cell_type": "markdown",
   "id": "fc2df623",
   "metadata": {},
   "source": [
    "### One-versus-One Strategy (OvO)\n",
    "\n",
    "Train a **binary classifier** for every **pair of classes**\n",
    "- If there are n classes -> then **N' = n * (n - 1) / 2** classifiers are needed.\n",
    "\n",
    "when we want to classify an instance (data point), we have to run the instance through N' classifiers and see which class wins the most duels.\n",
    "\n",
    "The main advantage of of OvO is that each classifier *only needs to be trained on the part of the training set for the two classes that it must distinguish.*"
   ]
  },
  {
   "cell_type": "markdown",
   "id": "63ea5dad",
   "metadata": {},
   "source": [
    "Some algorithms (such as Support Vector Machine classifiers) scale poorly with the\n",
    "size of the training set. For these algorithms OvO is preferred because it is faster to\n",
    "train many classifiers on small training sets than to train few classifiers on large train‐\n",
    "ing sets. For most binary classification algorithms, however, OvR is preferred."
   ]
  },
  {
   "cell_type": "code",
   "execution_count": 108,
   "id": "f0399dcb",
   "metadata": {},
   "outputs": [
    {
     "data": {
      "text/plain": [
       "array([5], dtype=uint8)"
      ]
     },
     "execution_count": 108,
     "metadata": {},
     "output_type": "execute_result"
    }
   ],
   "source": [
    "# Scikit-Learn automatically chooses appropriate algorithm for multi-class classification\n",
    "\n",
    "from sklearn.svm import SVC\n",
    "svm_clf = SVC()\n",
    "svm_clf.fit(X_train, y_train)\n",
    "svm_clf.predict([some_digit])"
   ]
  },
  {
   "cell_type": "markdown",
   "id": "6306eb85",
   "metadata": {},
   "source": [
    "SVC model trains on the original training set using original target classes from 0 to 9 (y_train), instead of the 5 versus the rest target classes (y_train_5). Under the hood, Scikit-Learn used the OvO strategy.\n",
    "\n",
    "- It trained 45 binary classifiers, got their decision scores for the image, and selected the class that won the most duels."
   ]
  },
  {
   "cell_type": "code",
   "execution_count": 109,
   "id": "9a8f9a53",
   "metadata": {},
   "outputs": [
    {
     "data": {
      "text/plain": [
       "array([[ 1.72501977,  2.72809088,  7.2510018 ,  8.3076379 , -0.31087254,\n",
       "         9.3132482 ,  1.70975103,  2.76765202,  6.23049537,  4.84771048]])"
      ]
     },
     "execution_count": 109,
     "metadata": {},
     "output_type": "execute_result"
    }
   ],
   "source": [
    "# decision_function() method returns 10 scores per instance\n",
    "# that's one score per class.\n",
    "some_digit_scores = svm_clf.decision_function([some_digit])\n",
    "some_digit_scores"
   ]
  },
  {
   "cell_type": "code",
   "execution_count": 114,
   "id": "04d5972f",
   "metadata": {},
   "outputs": [
    {
     "name": "stdout",
     "output_type": "stream",
     "text": [
      "5\n",
      "[0 1 2 3 4 5 6 7 8 9]\n",
      "5\n"
     ]
    }
   ],
   "source": [
    "# The highest score is the one corresponding to class 5\n",
    "print(np.argmax(some_digit_scores))\n",
    "print(svm_clf.classes_)\n",
    "print(svm_clf.classes_[5])"
   ]
  },
  {
   "cell_type": "code",
   "execution_count": 115,
   "id": "f6dc83b5",
   "metadata": {},
   "outputs": [
    {
     "data": {
      "text/plain": [
       "OneVsRestClassifier(estimator=SVC())"
      ]
     },
     "execution_count": 115,
     "metadata": {},
     "output_type": "execute_result"
    }
   ],
   "source": [
    "# We can create custom OvO or OvR\n",
    "# creates a multiclass classifier using the OvR strat‐\n",
    "egy, based on an SVC\n",
    "from sklearn.multiclass import OneVsRestClassifier\n",
    "ovr_clf = OneVsRestClassifier(SVC())\n",
    "ovr_clf.fit(X_train, y_train)"
   ]
  },
  {
   "cell_type": "code",
   "execution_count": 151,
   "id": "2f19ea1c",
   "metadata": {},
   "outputs": [
    {
     "name": "stdout",
     "output_type": "stream",
     "text": [
      "[5]\n",
      "10\n"
     ]
    }
   ],
   "source": [
    "print(ovr_clf.predict([some_digit]))\n",
    "print(len(ovr_clf.estimators_))"
   ]
  },
  {
   "cell_type": "code",
   "execution_count": 152,
   "id": "2b6ce378",
   "metadata": {},
   "outputs": [
    {
     "data": {
      "text/plain": [
       "array([3], dtype=uint8)"
      ]
     },
     "execution_count": 152,
     "metadata": {},
     "output_type": "execute_result"
    }
   ],
   "source": [
    "# SGD classifier\n",
    "sgd_clf.fit(X_train, y_train)\n",
    "sgd_clf.predict([some_digit])"
   ]
  },
  {
   "cell_type": "markdown",
   "id": "4e56fbe4",
   "metadata": {},
   "source": [
    "This time, there isn't a OvO or OvR strategy is run, because SGD classifiers can directly classfiy instances into multiple classes."
   ]
  },
  {
   "cell_type": "code",
   "execution_count": 153,
   "id": "7675d38b",
   "metadata": {},
   "outputs": [
    {
     "data": {
      "text/plain": [
       "array([[-31893.03095419, -34419.69069632,  -9530.63950739,\n",
       "          1823.73154031, -22320.14822878,  -1385.80478895,\n",
       "        -26188.91070951, -16147.51323997,  -4604.35491274,\n",
       "        -12050.767298  ]])"
      ]
     },
     "execution_count": 153,
     "metadata": {},
     "output_type": "execute_result"
    }
   ],
   "source": [
    "# Using decision_function() to get score value per class\n",
    "sgd_clf.decision_function([some_digit])"
   ]
  },
  {
   "cell_type": "code",
   "execution_count": 154,
   "id": "c163074b",
   "metadata": {},
   "outputs": [
    {
     "data": {
      "text/plain": [
       "array([0.87365, 0.85835, 0.8689 ])"
      ]
     },
     "execution_count": 154,
     "metadata": {},
     "output_type": "execute_result"
    }
   ],
   "source": [
    "# Evaluating the model\n",
    "cross_val_score(sgd_clf, X_train, y_train, cv=3, scoring=\"accuracy\")"
   ]
  },
  {
   "cell_type": "markdown",
   "id": "c22adab8",
   "metadata": {},
   "source": [
    "# Multilabel Classification\n",
    "\n",
    "In some cases, classifier may output multiple classes for each instance."
   ]
  },
  {
   "cell_type": "code",
   "execution_count": 159,
   "id": "5efb463f",
   "metadata": {},
   "outputs": [
    {
     "data": {
      "text/plain": [
       "KNeighborsClassifier()"
      ]
     },
     "execution_count": 159,
     "metadata": {},
     "output_type": "execute_result"
    }
   ],
   "source": [
    "from sklearn.neighbors import KNeighborsClassifier\n",
    "\n",
    "y_train_large = (y_train >= 7) # digits larger than (7, 8, 9)\n",
    "y_train_odd = (y_train % 2 == 1) # odd digits\n",
    "y_multilabel = np.c_[y_train_large, y_train_odd]\n",
    "\n",
    "knn_clf = KNeighborsClassifier()\n",
    "knn_clf.fit(X_train, y_multilabel)"
   ]
  },
  {
   "cell_type": "code",
   "execution_count": 160,
   "id": "be157891",
   "metadata": {},
   "outputs": [
    {
     "data": {
      "text/plain": [
       "array([[False,  True]])"
      ]
     },
     "execution_count": 160,
     "metadata": {},
     "output_type": "execute_result"
    }
   ],
   "source": [
    "knn_clf.predict([some_digit])"
   ]
  },
  {
   "cell_type": "markdown",
   "id": "fdc14bb1",
   "metadata": {},
   "source": [
    "The model's prediction is correct, the digit 5 is indeed not large (False) and odd(True)"
   ]
  },
  {
   "cell_type": "code",
   "execution_count": 162,
   "id": "c7baecde",
   "metadata": {},
   "outputs": [
    {
     "data": {
      "text/plain": [
       "0.976410265560605"
      ]
     },
     "execution_count": 162,
     "metadata": {},
     "output_type": "execute_result"
    }
   ],
   "source": [
    "# Evaluating multilabel classifier\n",
    "# Depends on the project\n",
    "\n",
    "# Once approach is to measure F1 score for each individual label,\n",
    "# then compute the average F1 score\n",
    "y_train_knn_pred = cross_val_predict(knn_clf, X_train, y_multilabel, cv=3)\n",
    "f1_score(y_multilabel, y_train_knn_pred, average=\"macro\")"
   ]
  },
  {
   "cell_type": "markdown",
   "id": "33281a7b",
   "metadata": {},
   "source": [
    "This assumes that all labels are equally important. Some cases we may need to give more weights to some labels. In that case, one simple option is to give each label a weight equal to its *support* (#instances with that target label).\n",
    "\n",
    "- average(weighted)"
   ]
  },
  {
   "cell_type": "markdown",
   "id": "256c4b9b",
   "metadata": {},
   "source": [
    "# Multiout Classification\n",
    "\n",
    "It is simply a generalization of multilabel classification where each label can be multiclass (it can have more than two possible values)"
   ]
  },
  {
   "cell_type": "code",
   "execution_count": 163,
   "id": "344d11f1",
   "metadata": {},
   "outputs": [],
   "source": [
    "# System - that removes noise from images\n",
    "# Input - a noisy digit image\n",
    "# Output - a clean digit image\n",
    "# >> represents as an array of pixel intensities\n",
    "\n",
    "# Here classifier output is multilabel \n",
    "# >> one label per pixel, each label can have multiple values (0 - 255)\n",
    "# >> hence, a mutlioutput classification system\n",
    "\n",
    "# Create test set, train test by adding noise to their pixel intensities\n",
    "noise = np.random.randint(0, 100, (len(X_train), 784))\n",
    "X_train_mod = X_train + noise\n",
    "noise = np.random.randint(0, 100, (len(X_test), 784))\n",
    "X_test_mod = X_test + noise\n",
    "y_train_mod = X_train\n",
    "y_test_mod = X_test"
   ]
  },
  {
   "cell_type": "code",
   "execution_count": 172,
   "id": "2732e4fa",
   "metadata": {},
   "outputs": [],
   "source": [
    "# Train the classifier\n",
    "knn_clf.fit(X_train_mod, y_train_mod)\n",
    "\n",
    "def plot_digit(clean_digit):\n",
    "    clean_digit_image = clean_digit.reshape(28, 28)\n",
    "    plt.imshow(clean_digit_image, cmap=\"binary\")\n",
    "    plt.axis(\"off\")\n",
    "    plt.show()"
   ]
  },
  {
   "cell_type": "code",
   "execution_count": 178,
   "id": "5741c7db",
   "metadata": {},
   "outputs": [
    {
     "data": {
      "image/png": "[encoded data removed]",
      "text/plain": [
       "<Figure size 432x288 with 1 Axes>"
      ]
     },
     "metadata": {
      "needs_background": "light"
     },
     "output_type": "display_data"
    }
   ],
   "source": [
    "clean_digit = knn_clf.predict([X_test_mod.iloc[3]])\n",
    "plot_digit(clean_digit)"
   ]
  },
  {
   "cell_type": "code",
   "execution_count": 181,
   "id": "bace9d77",
   "metadata": {},
   "outputs": [
    {
     "data": {
      "image/png": "[encoded data removed]",
      "text/plain": [
       "<Figure size 432x288 with 1 Axes>"
      ]
     },
     "metadata": {
      "needs_background": "light"
     },
     "output_type": "display_data"
    }
   ],
   "source": [
    "plot_digit(y_test_mod.iloc[3].values)"
   ]
  },
  {
   "cell_type": "markdown",
   "id": "74a706ad",
   "metadata": {},
   "source": [
    "Looks close to the target!"
   ]
  }
 ],
 "metadata": {
  "kernelspec": {
   "display_name": "Python 3 (ipykernel)",
   "language": "python",
   "name": "python3"
  },
  "language_info": {
   "codemirror_mode": {
    "name": "ipython",
    "version": 3
   },
   "file_extension": ".py",
   "mimetype": "text/x-python",
   "name": "python",
   "nbconvert_exporter": "python",
   "pygments_lexer": "ipython3",
   "version": "3.8.10"
  }
 },
 "nbformat": 4,
 "nbformat_minor": 5
}
