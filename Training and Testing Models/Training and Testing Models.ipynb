{
 "cells": [
  {
   "cell_type": "markdown",
   "id": "eb91aa30",
   "metadata": {},
   "source": [
    "# Loading data into Pandas"
   ]
  },
  {
   "cell_type": "code",
   "execution_count": 2,
   "id": "1f5f1707",
   "metadata": {},
   "outputs": [],
   "source": [
    "import pandas\n",
    "data = pandas.read_csv(\"data.csv\")"
   ]
  },
  {
   "cell_type": "markdown",
   "id": "26fa11dc",
   "metadata": {},
   "source": [
    "we need to split the input and output into numpy arrays, in order to apply the classifiers.\n",
    "\n",
    "we have a pandas dataframe called df\n",
    "df['A']\n",
    "df[['B', 'C']]\n",
    "\n",
    "Turning pandas DataFrames into NumPy\n",
    "numpy.array(df)"
   ]
  },
  {
   "cell_type": "markdown",
   "id": "a948d031",
   "metadata": {},
   "source": [
    "## NumPy Arrays"
   ]
  },
  {
   "cell_type": "code",
   "execution_count": 3,
   "id": "c99c93d4",
   "metadata": {},
   "outputs": [],
   "source": [
    "import pandas as pd\n",
    "import numpy as np\n",
    "\n",
    "data = pd.read_csv(\"data.csv\")\n",
    "# Seperating x1, and x2\n",
    "X = np.array(data[['x1', 'x2']])\n",
    "y = np.array(data['y'])"
   ]
  },
  {
   "cell_type": "markdown",
   "id": "203d65a7",
   "metadata": {},
   "source": [
    "## Training Models in scikit learn"
   ]
  },
  {
   "cell_type": "code",
   "execution_count": 4,
   "id": "3e2c2cfd",
   "metadata": {},
   "outputs": [
    {
     "data": {
      "text/plain": [
       "SVC()"
      ]
     },
     "execution_count": 4,
     "metadata": {},
     "output_type": "execute_result"
    }
   ],
   "source": [
    "# import statements for the classification algorithms\n",
    "from sklearn.linear_model import LogisticRegression\n",
    "from sklearn.tree import DecisionTreeClassifier\n",
    "from sklearn.svm import SVC\n",
    "\n",
    "# Logistic Regression Classifier\n",
    "classifier = LogisticRegression()\n",
    "classifier.fit(X, y)\n",
    "\n",
    "# Decision Tree Classifier\n",
    "classifier = DecisionTreeClassifier()\n",
    "classifier.fit(X, y)\n",
    "\n",
    "# Support Vector Machine Classifier\n",
    "classifier = SVC()\n",
    "classifier.fit(X, y)"
   ]
  },
  {
   "cell_type": "markdown",
   "id": "623ccbf6",
   "metadata": {},
   "source": [
    "## Tuning Parameters"
   ]
  },
  {
   "cell_type": "code",
   "execution_count": 5,
   "id": "55f6b385",
   "metadata": {},
   "outputs": [],
   "source": [
    "classifier = SVC(kernel = 'rbf', gamma = 200)"
   ]
  },
  {
   "cell_type": "markdown",
   "id": "9bc99b15",
   "metadata": {},
   "source": [
    "## Testing"
   ]
  },
  {
   "cell_type": "code",
   "execution_count": 49,
   "id": "5c025dc7",
   "metadata": {
    "scrolled": true
   },
   "outputs": [
    {
     "data": {
      "text/plain": [
       "0.6"
      ]
     },
     "execution_count": 49,
     "metadata": {},
     "output_type": "execute_result"
    }
   ],
   "source": [
    "# Import statements\n",
    "from sklearn.tree import DecisionTreeClassifier\n",
    "from sklearn.metrics import accuracy_score\n",
    "import pandas as pd\n",
    "import numpy as np\n",
    "\n",
    "# Import the train test split\n",
    "from sklearn.model_selection import train_test_split\n",
    "\n",
    "# Read the data\n",
    "# data = np.array(pd.read_csv('data.csv', header=None))\n",
    "data = pd.read_csv('data.csv')\n",
    "# Assign features to the variable X, and labels to y\n",
    "# X = data[:, 0:2]\n",
    "# y = data[:, 2]\n",
    "X = np.array(data[['x1', 'x2']])\n",
    "y = np.array(data['y'])\n",
    "\n",
    "# np.delete(data[:, 0:2], [0, 1])\n",
    "# np.delete(data[:, 2], [0])\n",
    "\n",
    "# Use train test split to split the data\n",
    "# Here test size is set to 25% and a random state of 42\n",
    "X_train, X_test, y_train, y_test = train_test_split(X, y, test_size=0.25, random_state=42)\n",
    "\n",
    "# Create the decision tree model\n",
    "model = DecisionTreeClassifier()\n",
    "\n",
    "# Fit the model to the training data\n",
    "model.fit(X_train, y_train)\n",
    "\n",
    "# Make predictions on the test data\n",
    "y_pred = model.predict(X_test)\n",
    "\n",
    "# Calculate the accuracy \n",
    "accuracy = accuracy_score(y_test, y_pred)\n",
    "accuracy"
   ]
  },
  {
   "cell_type": "code",
   "execution_count": 57,
   "id": "8760eb45",
   "metadata": {},
   "outputs": [
    {
     "data": {
      "text/plain": [
       "array([['0.78051', '-0.063669', '0'],\n",
       "       ['0.28774', '0.29139', '0'],\n",
       "       ['0.40714', '0.17878', '0'],\n",
       "       ['0.2923', '0.4217', '0'],\n",
       "       ['0.50922', '0.35256', '0'],\n",
       "       ['0.27785', '0.10802', '0'],\n",
       "       ['0.27527', '0.33223', '0'],\n",
       "       ['0.43999', '0.31245', '0'],\n",
       "       ['0.33557', '0.42984', '0'],\n",
       "       ['0.23448', '0.24986', '0'],\n",
       "       ['0.0084492', '0.13658', '0'],\n",
       "       ['0.12419', '0.33595', '0'],\n",
       "       ['0.25644', '0.42624', '0'],\n",
       "       ['0.4591', '0.40426', '0'],\n",
       "       ['0.44547', '0.45117', '0'],\n",
       "       ['0.42218', '0.20118', '0'],\n",
       "       ['0.49563', '0.21445', '0'],\n",
       "       ['0.30848', '0.24306', '0'],\n",
       "       ['0.39707', '0.44438', '0'],\n",
       "       ['0.32945', '0.39217', '0'],\n",
       "       ['0.40739', '0.40271', '0'],\n",
       "       ['0.3106', '0.50702', '0'],\n",
       "       ['0.49638', '0.45384', '0'],\n",
       "       ['0.10073', '0.32053', '0'],\n",
       "       ['0.69907', '0.37307', '0'],\n",
       "       ['0.29767', '0.69648', '0'],\n",
       "       ['0.15099', '0.57341', '0'],\n",
       "       ['0.16427', '0.27759', '0'],\n",
       "       ['0.33259', '0.055964', '0'],\n",
       "       ['0.53741', '0.28637', '0'],\n",
       "       ['0.19503', '0.36879', '0'],\n",
       "       ['0.40278', '0.035148', '0'],\n",
       "       ['0.21296', '0.55169', '0'],\n",
       "       ['0.48447', '0.56991', '0'],\n",
       "       ['0.25476', '0.34596', '0'],\n",
       "       ['0.21726', '0.28641', '0'],\n",
       "       ['0.67078', '0.46538', '0'],\n",
       "       ['0.3815', '0.4622', '0'],\n",
       "       ['0.53838', '0.32774', '0'],\n",
       "       ['0.4849', '0.26071', '0'],\n",
       "       ['0.37095', '0.38809', '0'],\n",
       "       ['0.54527', '0.63911', '0'],\n",
       "       ['0.32149', '0.12007', '0'],\n",
       "       ['0.42216', '0.61666', '0'],\n",
       "       ['0.10194', '0.060408', '0'],\n",
       "       ['0.15254', '0.2168', '1'],\n",
       "       ['0.45558', '0.43769', '1'],\n",
       "       ['0.28488', '0.52142', '1'],\n",
       "       ['0.27633', '0.21264', '1'],\n",
       "       ['0.39748', '0.31902', '1'],\n",
       "       ['0.5533', '1', '0'],\n",
       "       ['0.44274', '0.59205', '0'],\n",
       "       ['0.85176', '0.6612', '0'],\n",
       "       ['0.60436', '0.86605', '0'],\n",
       "       ['0.68243', '0.48301', '0'],\n",
       "       ['1', '0.76815', '1'],\n",
       "       ['0.72989', '0.8107', '1'],\n",
       "       ['0.67377', '0.77975', '1'],\n",
       "       ['0.78761', '0.58177', '1'],\n",
       "       ['0.71442', '0.7668', '1'],\n",
       "       ['0.49379', '0.54226', '1'],\n",
       "       ['0.78974', '0.74233', '1'],\n",
       "       ['0.67905', '0.60921', '1'],\n",
       "       ['0.6642', '0.72519', '1'],\n",
       "       ['0.79396', '0.56789', '1'],\n",
       "       ['0.70758', '0.76022', '1'],\n",
       "       ['0.59421', '0.61857', '1'],\n",
       "       ['0.49364', '0.56224', '1'],\n",
       "       ['0.77707', '0.35025', '1'],\n",
       "       ['0.79785', '0.76921', '1'],\n",
       "       ['0.70876', '0.96764', '1'],\n",
       "       ['0.69176', '0.60865', '1'],\n",
       "       ['0.66408', '0.92075', '1'],\n",
       "       ['0.65973', '0.66666', '1'],\n",
       "       ['0.64574', '0.56845', '1'],\n",
       "       ['0.89639', '0.7085', '1'],\n",
       "       ['0.85476', '0.63167', '1'],\n",
       "       ['0.62091', '0.80424', '1'],\n",
       "       ['0.79057', '0.56108', '1'],\n",
       "       ['0.58935', '0.71582', '1'],\n",
       "       ['0.56846', '0.7406', '1'],\n",
       "       ['0.65912', '0.71548', '1'],\n",
       "       ['0.70938', '0.74041', '1'],\n",
       "       ['0.59154', '0.62927', '1'],\n",
       "       ['0.45829', '0.4641', '1'],\n",
       "       ['0.79982', '0.74847', '1'],\n",
       "       ['0.60974', '0.54757', '1'],\n",
       "       ['0.68127', '0.86985', '1'],\n",
       "       ['0.76694', '0.64736', '1'],\n",
       "       ['0.69048', '0.83058', '1'],\n",
       "       ['0.68122', '0.96541', '1'],\n",
       "       ['0.73229', '0.64245', '1'],\n",
       "       ['0.76145', '0.60138', '1'],\n",
       "       ['0.58985', '0.86955', '1'],\n",
       "       ['0.73145', '0.74516', '1'],\n",
       "       ['0.77029', '0.7014', '1'],\n",
       "       ['0.73156', '0.71782', '1'],\n",
       "       ['0.44556', '0.57991', '1'],\n",
       "       ['0.85275', '0.85987', '1'],\n",
       "       ['0.51912', '0.62359', '1']], dtype=object)"
      ]
     },
     "execution_count": 57,
     "metadata": {},
     "output_type": "execute_result"
    }
   ],
   "source": [
    "data = np.array(pd.read_csv('data.csv', header=None))\n",
    "row_index = np.where(np.all(data == ['x1', 'x2', 'y'], axis=1))\n",
    "data = np.delete(data, row_index, axis=0)\n",
    "data"
   ]
  }
 ],
 "metadata": {
  "kernelspec": {
   "display_name": "Python 3 (ipykernel)",
   "language": "python",
   "name": "python3"
  },
  "language_info": {
   "codemirror_mode": {
    "name": "ipython",
    "version": 3
   },
   "file_extension": ".py",
   "mimetype": "text/x-python",
   "name": "python",
   "nbconvert_exporter": "python",
   "pygments_lexer": "ipython3",
   "version": "3.9.5"
  }
 },
 "nbformat": 4,
 "nbformat_minor": 5
}
