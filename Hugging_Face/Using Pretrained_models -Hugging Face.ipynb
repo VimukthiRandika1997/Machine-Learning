{
 "cells": [
  {
   "cell_type": "code",
   "execution_count": 1,
   "id": "9cad2175-9152-4f5b-aeeb-f328d84ea6d5",
   "metadata": {},
   "outputs": [],
   "source": [
    "from transformers import pipeline\n",
    "import tqdm\n",
    "\n",
    "model_name = 'distilbert-base-uncased-finetuned-sst-2-english'\n",
    "model = pipeline('sentiment-analysis', model=model_name)"
   ]
  },
  {
   "cell_type": "markdown",
   "id": "78724c3f-0662-4948-9846-cf2870c8dd48",
   "metadata": {},
   "source": [
    "## Score the sentence"
   ]
  },
  {
   "cell_type": "code",
   "execution_count": 2,
   "id": "4b6a5fc8-8601-44c8-a6dd-7e8648bdf0d5",
   "metadata": {},
   "outputs": [
    {
     "data": {
      "text/plain": [
       "[{'label': 'NEGATIVE', 'score': 0.9994971752166748}]"
      ]
     },
     "execution_count": 2,
     "metadata": {},
     "output_type": "execute_result"
    }
   ],
   "source": [
    "# A negative comment\n",
    "model('The lone lines and poor customer service really turned me off')"
   ]
  },
  {
   "cell_type": "code",
   "execution_count": 3,
   "id": "1c9a409c-5b6d-45e0-98d6-46e863840ff5",
   "metadata": {},
   "outputs": [
    {
     "data": {
      "text/plain": [
       "[{'label': 'POSITIVE', 'score': 0.9998843669891357}]"
      ]
     },
     "execution_count": 3,
     "metadata": {},
     "output_type": "execute_result"
    }
   ],
   "source": [
    "# A positive comment\n",
    "model('Great food and excellent service!')"
   ]
  },
  {
   "cell_type": "markdown",
   "id": "6d1d3d56-0f63-4f14-9898-b059770f748e",
   "metadata": {},
   "source": [
    "## Analyze text for emotions"
   ]
  },
  {
   "cell_type": "code",
   "execution_count": 5,
   "id": "d30929fc-1c79-4839-9e07-41ac1c5cf547",
   "metadata": {},
   "outputs": [],
   "source": [
    "model = pipeline('text-classification', \n",
    "                model='bhadresh-savani/distilbert-base-uncased-emotion',\n",
    "                return_all_scores=True)"
   ]
  },
  {
   "cell_type": "code",
   "execution_count": 6,
   "id": "e4a00d90-b352-4a74-9118-decd7bc410ce",
   "metadata": {},
   "outputs": [
    {
     "data": {
      "text/plain": [
       "[[{'label': 'sadness', 'score': 0.10836947709321976},\n",
       "  {'label': 'joy', 'score': 0.0023739414755254984},\n",
       "  {'label': 'love', 'score': 0.0006029443466104567},\n",
       "  {'label': 'anger', 'score': 0.8861259818077087},\n",
       "  {'label': 'fear', 'score': 0.0019340664148330688},\n",
       "  {'label': 'surprise', 'score': 0.0005936265806667507}]]"
      ]
     },
     "execution_count": 6,
     "metadata": {},
     "output_type": "execute_result"
    }
   ],
   "source": [
    "model('The long lines and poor customer service really turned me off')"
   ]
  }
 ],
 "metadata": {
  "kernelspec": {
   "display_name": "Python (pytorch)",
   "language": "python",
   "name": "pytorch"
  },
  "language_info": {
   "codemirror_mode": {
    "name": "ipython",
    "version": 3
   },
   "file_extension": ".py",
   "mimetype": "text/x-python",
   "name": "python",
   "nbconvert_exporter": "python",
   "pygments_lexer": "ipython3",
   "version": "3.9.16"
  }
 },
 "nbformat": 4,
 "nbformat_minor": 5
}
