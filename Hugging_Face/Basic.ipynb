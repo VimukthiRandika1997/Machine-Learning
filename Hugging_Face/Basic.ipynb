{
 "cells": [
  {
   "cell_type": "markdown",
   "metadata": {},
   "source": [
    "- https://www.datacamp.com/tutorial/an-introduction-to-using-transformers-and-hugging-face"
   ]
  },
  {
   "cell_type": "code",
   "execution_count": 6,
   "metadata": {},
   "outputs": [
    {
     "name": "stdout",
     "output_type": "stream",
     "text": [
      "<class 'pandas.core.frame.DataFrame'>\n",
      "RangeIndex: 1428 entries, 0 to 1427\n",
      "Data columns (total 14 columns):\n",
      " #   Column                           Non-Null Count  Dtype  \n",
      "---  ------                           --------------  -----  \n",
      " 0   source_id                        1428 non-null   object \n",
      " 1   source_name                      1428 non-null   object \n",
      " 2   author                           1317 non-null   object \n",
      " 3   title                            1428 non-null   object \n",
      " 4   description                      1424 non-null   object \n",
      " 5   url                              1427 non-null   object \n",
      " 6   url_to_image                     1327 non-null   object \n",
      " 7   published_at                     1427 non-null   object \n",
      " 8   content                          1262 non-null   object \n",
      " 9   top_article                      1426 non-null   float64\n",
      " 10  engagement_reaction_count        1414 non-null   float64\n",
      " 11  engagement_comment_count         1414 non-null   float64\n",
      " 12  engagement_share_count           1414 non-null   float64\n",
      " 13  engagement_comment_plugin_count  1414 non-null   float64\n",
      "dtypes: float64(5), object(9)\n",
      "memory usage: 156.3+ KB\n"
     ]
    }
   ],
   "source": [
    "import pandas as pd\n",
    "# Load the data from the path\n",
    "data_path = \"../Data/datacamp_workspace_export_2023-11-25 06_40_33.csv\"\n",
    "news_data = pd.read_csv(data_path)\n",
    "\n",
    "\n",
    "\n",
    "\n",
    "# Show data information\n",
    "news_data.info()"
   ]
  },
  {
   "cell_type": "code",
   "execution_count": 12,
   "metadata": {},
   "outputs": [
    {
     "data": {
      "text/html": [
       "<div>\n",
       "<style scoped>\n",
       "    .dataframe tbody tr th:only-of-type {\n",
       "        vertical-align: middle;\n",
       "    }\n",
       "\n",
       "    .dataframe tbody tr th {\n",
       "        vertical-align: top;\n",
       "    }\n",
       "\n",
       "    .dataframe thead th {\n",
       "        text-align: right;\n",
       "    }\n",
       "</style>\n",
       "<table border=\"1\" class=\"dataframe\">\n",
       "  <thead>\n",
       "    <tr style=\"text-align: right;\">\n",
       "      <th></th>\n",
       "      <th>source_id</th>\n",
       "      <th>source_name</th>\n",
       "      <th>author</th>\n",
       "      <th>title</th>\n",
       "      <th>description</th>\n",
       "      <th>url</th>\n",
       "      <th>url_to_image</th>\n",
       "      <th>published_at</th>\n",
       "      <th>content</th>\n",
       "      <th>top_article</th>\n",
       "      <th>engagement_reaction_count</th>\n",
       "      <th>engagement_comment_count</th>\n",
       "      <th>engagement_share_count</th>\n",
       "      <th>engagement_comment_plugin_count</th>\n",
       "    </tr>\n",
       "  </thead>\n",
       "  <tbody>\n",
       "    <tr>\n",
       "      <th>0</th>\n",
       "      <td>reuters</td>\n",
       "      <td>Reuters</td>\n",
       "      <td>Reuters Editorial</td>\n",
       "      <td>NTSB says Autopilot engaged in 2018 California...</td>\n",
       "      <td>\"The National Transportation Safety Board said...</td>\n",
       "      <td>https://www.reuters.com/article/us-tesla-crash...</td>\n",
       "      <td>https://s4.reutersmedia.net/resources/r/?m=02&amp;...</td>\n",
       "      <td>2019-09-03T16:22:20Z</td>\n",
       "      <td>\"WASHINGTON (Reuters) - The National Transport...</td>\n",
       "      <td>0.0</td>\n",
       "      <td>0.0</td>\n",
       "      <td>0.0</td>\n",
       "      <td>2528.0</td>\n",
       "      <td>0.0</td>\n",
       "    </tr>\n",
       "    <tr>\n",
       "      <th>1</th>\n",
       "      <td>the-irish-times</td>\n",
       "      <td>The Irish Times</td>\n",
       "      <td>Eoin Burke-Kennedy</td>\n",
       "      <td>Unemployment falls to post-crash low of 5.2%</td>\n",
       "      <td>Latest monthly figures reflect continued growt...</td>\n",
       "      <td>https://www.irishtimes.com/business/economy/un...</td>\n",
       "      <td>https://www.irishtimes.com/image-creator/?id=1...</td>\n",
       "      <td>2019-09-03T10:32:28Z</td>\n",
       "      <td>\"The States jobless rate fell to 5.2 per cent ...</td>\n",
       "      <td>0.0</td>\n",
       "      <td>6.0</td>\n",
       "      <td>10.0</td>\n",
       "      <td>2.0</td>\n",
       "      <td>0.0</td>\n",
       "    </tr>\n",
       "    <tr>\n",
       "      <th>2</th>\n",
       "      <td>the-irish-times</td>\n",
       "      <td>The Irish Times</td>\n",
       "      <td>Deirdre McQuillan</td>\n",
       "      <td>\"Louise Kennedy AW2019: Long coats, sparkling ...</td>\n",
       "      <td>Autumn-winter collection features designer’s g...</td>\n",
       "      <td>https://www.irishtimes.com/\\t\\t\\t\\t\\t\\t\\t/life...</td>\n",
       "      <td>https://www.irishtimes.com/image-creator/?id=1...</td>\n",
       "      <td>2019-09-03T14:40:00Z</td>\n",
       "      <td>\"Louise Kennedy is showing off her autumn-wint...</td>\n",
       "      <td>1.0</td>\n",
       "      <td>NaN</td>\n",
       "      <td>NaN</td>\n",
       "      <td>NaN</td>\n",
       "      <td>NaN</td>\n",
       "    </tr>\n",
       "    <tr>\n",
       "      <th>3</th>\n",
       "      <td>al-jazeera-english</td>\n",
       "      <td>Al Jazeera English</td>\n",
       "      <td>Al Jazeera</td>\n",
       "      <td>North Korean footballer Han joins Italian gian...</td>\n",
       "      <td>Han is the first North Korean player in the Se...</td>\n",
       "      <td>https://www.aljazeera.com/news/2019/09/north-k...</td>\n",
       "      <td>https://www.aljazeera.com/mritems/Images/2019/...</td>\n",
       "      <td>2019-09-03T17:25:39Z</td>\n",
       "      <td>\"Han Kwang Song, the first North Korean footba...</td>\n",
       "      <td>0.0</td>\n",
       "      <td>0.0</td>\n",
       "      <td>0.0</td>\n",
       "      <td>7.0</td>\n",
       "      <td>0.0</td>\n",
       "    </tr>\n",
       "    <tr>\n",
       "      <th>4</th>\n",
       "      <td>bbc-news</td>\n",
       "      <td>BBC News</td>\n",
       "      <td>BBC News</td>\n",
       "      <td>UK government lawyer says proroguing parliamen...</td>\n",
       "      <td>\"The UK government's lawyer, David Johnston ar...</td>\n",
       "      <td>https://www.bbc.co.uk/news/av/uk-scotland-4956...</td>\n",
       "      <td>https://ichef.bbci.co.uk/news/1024/branded_new...</td>\n",
       "      <td>2019-09-03T14:39:21Z</td>\n",
       "      <td>NaN</td>\n",
       "      <td>0.0</td>\n",
       "      <td>0.0</td>\n",
       "      <td>0.0</td>\n",
       "      <td>0.0</td>\n",
       "      <td>0.0</td>\n",
       "    </tr>\n",
       "  </tbody>\n",
       "</table>\n",
       "</div>"
      ],
      "text/plain": [
       "            source_id         source_name              author  \\\n",
       "0             reuters             Reuters   Reuters Editorial   \n",
       "1     the-irish-times     The Irish Times  Eoin Burke-Kennedy   \n",
       "2     the-irish-times     The Irish Times   Deirdre McQuillan   \n",
       "3  al-jazeera-english  Al Jazeera English          Al Jazeera   \n",
       "4            bbc-news            BBC News            BBC News   \n",
       "\n",
       "                                               title  \\\n",
       "0  NTSB says Autopilot engaged in 2018 California...   \n",
       "1       Unemployment falls to post-crash low of 5.2%   \n",
       "2  \"Louise Kennedy AW2019: Long coats, sparkling ...   \n",
       "3  North Korean footballer Han joins Italian gian...   \n",
       "4  UK government lawyer says proroguing parliamen...   \n",
       "\n",
       "                                         description  \\\n",
       "0  \"The National Transportation Safety Board said...   \n",
       "1  Latest monthly figures reflect continued growt...   \n",
       "2  Autumn-winter collection features designer’s g...   \n",
       "3  Han is the first North Korean player in the Se...   \n",
       "4  \"The UK government's lawyer, David Johnston ar...   \n",
       "\n",
       "                                                 url  \\\n",
       "0  https://www.reuters.com/article/us-tesla-crash...   \n",
       "1  https://www.irishtimes.com/business/economy/un...   \n",
       "2  https://www.irishtimes.com/\\t\\t\\t\\t\\t\\t\\t/life...   \n",
       "3  https://www.aljazeera.com/news/2019/09/north-k...   \n",
       "4  https://www.bbc.co.uk/news/av/uk-scotland-4956...   \n",
       "\n",
       "                                        url_to_image          published_at  \\\n",
       "0  https://s4.reutersmedia.net/resources/r/?m=02&...  2019-09-03T16:22:20Z   \n",
       "1  https://www.irishtimes.com/image-creator/?id=1...  2019-09-03T10:32:28Z   \n",
       "2  https://www.irishtimes.com/image-creator/?id=1...  2019-09-03T14:40:00Z   \n",
       "3  https://www.aljazeera.com/mritems/Images/2019/...  2019-09-03T17:25:39Z   \n",
       "4  https://ichef.bbci.co.uk/news/1024/branded_new...  2019-09-03T14:39:21Z   \n",
       "\n",
       "                                             content  top_article  \\\n",
       "0  \"WASHINGTON (Reuters) - The National Transport...          0.0   \n",
       "1  \"The States jobless rate fell to 5.2 per cent ...          0.0   \n",
       "2  \"Louise Kennedy is showing off her autumn-wint...          1.0   \n",
       "3  \"Han Kwang Song, the first North Korean footba...          0.0   \n",
       "4                                                NaN          0.0   \n",
       "\n",
       "   engagement_reaction_count  engagement_comment_count  \\\n",
       "0                        0.0                       0.0   \n",
       "1                        6.0                      10.0   \n",
       "2                        NaN                       NaN   \n",
       "3                        0.0                       0.0   \n",
       "4                        0.0                       0.0   \n",
       "\n",
       "   engagement_share_count  engagement_comment_plugin_count  \n",
       "0                  2528.0                              0.0  \n",
       "1                     2.0                              0.0  \n",
       "2                     NaN                              NaN  \n",
       "3                     7.0                              0.0  \n",
       "4                     0.0                              0.0  "
      ]
     },
     "execution_count": 12,
     "metadata": {},
     "output_type": "execute_result"
    }
   ],
   "source": [
    "news_data.head()"
   ]
  },
  {
   "cell_type": "code",
   "execution_count": 21,
   "metadata": {},
   "outputs": [
    {
     "data": {
      "text/plain": [
       "0    \"WASHINGTON (Reuters) - The National Transport...\n",
       "1    \"The States jobless rate fell to 5.2 per cent ...\n",
       "2    \"Louise Kennedy is showing off her autumn-wint...\n",
       "3    \"Han Kwang Song, the first North Korean footba...\n",
       "4                                                  NaN\n",
       "Name: content, dtype: object"
      ]
     },
     "execution_count": 21,
     "metadata": {},
     "output_type": "execute_result"
    }
   ],
   "source": [
    "english_texts = news_data[:5]['content']\n",
    "english_texts"
   ]
  },
  {
   "cell_type": "markdown",
   "metadata": {},
   "source": [
    "# Language Translation"
   ]
  },
  {
   "cell_type": "code",
   "execution_count": 7,
   "metadata": {},
   "outputs": [
    {
     "name": "stdout",
     "output_type": "stream",
     "text": [
      "Requirement already satisfied: transformers in /home/vimukthi/miniconda3/envs/pytorch/lib/python3.11/site-packages (4.32.1)\n",
      "Collecting sentencepiece\n",
      "  Downloading sentencepiece-0.1.99-cp311-cp311-manylinux_2_17_x86_64.manylinux2014_x86_64.whl (1.3 MB)\n",
      "\u001b[2K     \u001b[38;2;114;156;31m━━━━━━━━━━━━━━━━━━━━━━━━━━━━━━━━━━━━━━━━\u001b[0m \u001b[32m1.3/1.3 MB\u001b[0m \u001b[31m1.2 MB/s\u001b[0m eta \u001b[36m0:00:00\u001b[0m MB/s\u001b[0m eta \u001b[36m0:00:01\u001b[0m:01\u001b[0m0m\n",
      "\u001b[?25hRequirement already satisfied: filelock in /home/vimukthi/miniconda3/envs/pytorch/lib/python3.11/site-packages (from transformers) (3.9.0)\n",
      "Requirement already satisfied: huggingface-hub<1.0,>=0.15.1 in /home/vimukthi/miniconda3/envs/pytorch/lib/python3.11/site-packages (from transformers) (0.15.1)\n",
      "Requirement already satisfied: numpy>=1.17 in /home/vimukthi/miniconda3/envs/pytorch/lib/python3.11/site-packages (from transformers) (1.25.2)\n",
      "Requirement already satisfied: packaging>=20.0 in /home/vimukthi/miniconda3/envs/pytorch/lib/python3.11/site-packages (from transformers) (23.1)\n",
      "Requirement already satisfied: pyyaml>=5.1 in /home/vimukthi/miniconda3/envs/pytorch/lib/python3.11/site-packages (from transformers) (6.0)\n",
      "Requirement already satisfied: regex!=2019.12.17 in /home/vimukthi/miniconda3/envs/pytorch/lib/python3.11/site-packages (from transformers) (2022.7.9)\n",
      "Requirement already satisfied: requests in /home/vimukthi/miniconda3/envs/pytorch/lib/python3.11/site-packages (from transformers) (2.31.0)\n",
      "Requirement already satisfied: tokenizers!=0.11.3,<0.14,>=0.11.1 in /home/vimukthi/miniconda3/envs/pytorch/lib/python3.11/site-packages (from transformers) (0.13.2)\n",
      "Requirement already satisfied: safetensors>=0.3.1 in /home/vimukthi/miniconda3/envs/pytorch/lib/python3.11/site-packages (from transformers) (0.3.2)\n",
      "Requirement already satisfied: tqdm>=4.27 in /home/vimukthi/miniconda3/envs/pytorch/lib/python3.11/site-packages (from transformers) (4.65.0)\n",
      "Requirement already satisfied: fsspec in /home/vimukthi/miniconda3/envs/pytorch/lib/python3.11/site-packages (from huggingface-hub<1.0,>=0.15.1->transformers) (2023.4.0)\n",
      "Requirement already satisfied: typing-extensions>=3.7.4.3 in /home/vimukthi/miniconda3/envs/pytorch/lib/python3.11/site-packages (from huggingface-hub<1.0,>=0.15.1->transformers) (4.7.1)\n",
      "Requirement already satisfied: charset-normalizer<4,>=2 in /home/vimukthi/miniconda3/envs/pytorch/lib/python3.11/site-packages (from requests->transformers) (2.0.4)\n",
      "Requirement already satisfied: idna<4,>=2.5 in /home/vimukthi/miniconda3/envs/pytorch/lib/python3.11/site-packages (from requests->transformers) (3.4)\n",
      "Requirement already satisfied: urllib3<3,>=1.21.1 in /home/vimukthi/miniconda3/envs/pytorch/lib/python3.11/site-packages (from requests->transformers) (1.26.16)\n",
      "Requirement already satisfied: certifi>=2017.4.17 in /home/vimukthi/miniconda3/envs/pytorch/lib/python3.11/site-packages (from requests->transformers) (2023.7.22)\n",
      "Installing collected packages: sentencepiece\n",
      "Successfully installed sentencepiece-0.1.99\n"
     ]
    }
   ],
   "source": [
    "! pip install transformers sentencepiece\n",
    "from transformers import MarianTokenizer, MarianMTModel"
   ]
  },
  {
   "cell_type": "code",
   "execution_count": 8,
   "metadata": {},
   "outputs": [
    {
     "data": {
      "application/vnd.jupyter.widget-view+json": {
       "model_id": "33b6e5d1f2a04f74b4e3c01583f91f06",
       "version_major": 2,
       "version_minor": 0
      },
      "text/plain": [
       "Downloading source.spm:   0%|          | 0.00/778k [00:00<?, ?B/s]"
      ]
     },
     "metadata": {},
     "output_type": "display_data"
    },
    {
     "data": {
      "application/vnd.jupyter.widget-view+json": {
       "model_id": "7b9ec95041704183bc88938dfe497b88",
       "version_major": 2,
       "version_minor": 0
      },
      "text/plain": [
       "Downloading target.spm:   0%|          | 0.00/802k [00:00<?, ?B/s]"
      ]
     },
     "metadata": {},
     "output_type": "display_data"
    },
    {
     "data": {
      "application/vnd.jupyter.widget-view+json": {
       "model_id": "5b283e418d534b24a565ab209112ece6",
       "version_major": 2,
       "version_minor": 0
      },
      "text/plain": [
       "Downloading vocab.json:   0%|          | 0.00/1.34M [00:00<?, ?B/s]"
      ]
     },
     "metadata": {},
     "output_type": "display_data"
    },
    {
     "data": {
      "application/vnd.jupyter.widget-view+json": {
       "model_id": "710ffe0b2bad40049a143d7c3d6dbbfd",
       "version_major": 2,
       "version_minor": 0
      },
      "text/plain": [
       "Downloading tokenizer_config.json:   0%|          | 0.00/42.0 [00:00<?, ?B/s]"
      ]
     },
     "metadata": {},
     "output_type": "display_data"
    },
    {
     "data": {
      "application/vnd.jupyter.widget-view+json": {
       "model_id": "80a901c5ccef4921a51ca94b77e6ee6e",
       "version_major": 2,
       "version_minor": 0
      },
      "text/plain": [
       "Downloading config.json:   0%|          | 0.00/1.42k [00:00<?, ?B/s]"
      ]
     },
     "metadata": {},
     "output_type": "display_data"
    },
    {
     "name": "stderr",
     "output_type": "stream",
     "text": [
      "/home/vimukthi/miniconda3/envs/pytorch/lib/python3.11/site-packages/transformers/models/marian/tokenization_marian.py:194: UserWarning: Recommended: pip install sacremoses.\n",
      "  warnings.warn(\"Recommended: pip install sacremoses.\")\n"
     ]
    },
    {
     "data": {
      "application/vnd.jupyter.widget-view+json": {
       "model_id": "1ef65c4d3a064af09167bab23529d7db",
       "version_major": 2,
       "version_minor": 0
      },
      "text/plain": [
       "Downloading pytorch_model.bin:   0%|          | 0.00/301M [00:00<?, ?B/s]"
      ]
     },
     "metadata": {},
     "output_type": "display_data"
    },
    {
     "data": {
      "application/vnd.jupyter.widget-view+json": {
       "model_id": "29e177b2064c4d26a2f97a2f654670ef",
       "version_major": 2,
       "version_minor": 0
      },
      "text/plain": [
       "Downloading generation_config.json:   0%|          | 0.00/293 [00:00<?, ?B/s]"
      ]
     },
     "metadata": {},
     "output_type": "display_data"
    }
   ],
   "source": [
    "# Get the name of the model\n",
    "model_name = 'Helsinki-NLP/opus-mt-en-fr'\n",
    "\n",
    "# Get the tokenizer\n",
    "tokenizer = MarianTokenizer.from_pretrained(model_name)\n",
    "# Instantiate the model\n",
    "model = MarianMTModel.from_pretrained(model_name)"
   ]
  },
  {
   "cell_type": "code",
   "execution_count": 25,
   "metadata": {},
   "outputs": [],
   "source": [
    "def format_batch_texts(language_code, batch_texts):\n",
    "    formated_bach = [\">>{}<< {}\".format(language_code, text) for text in batch_texts]\n",
    "    \n",
    "    return formated_bach\n",
    "\n",
    "\n",
    "def perform_translation(batch_texts, model, tokenizer, language=\"fr\"):\n",
    "\n",
    "  # Prepare the text data into appropriate format for the model\n",
    "  formated_batch_texts = format_batch_texts(language, batch_texts)\n",
    " \n",
    "  # Generate translation using model\n",
    "  translated = model.generate(**tokenizer(formated_batch_texts,\n",
    "\n",
    "                                          return_tensors=\"pt\", padding=True))\n",
    "\n",
    "  # Convert the generated tokens indices back into text\n",
    "  translated_texts = [tokenizer.decode(t, skip_special_tokens=True) for t in translated]\n",
    " \n",
    "  return translated_texts"
   ]
  },
  {
   "cell_type": "code",
   "execution_count": 26,
   "metadata": {},
   "outputs": [
    {
     "name": "stdout",
     "output_type": "stream",
     "text": [
      "Original text: \n",
      " \"WASHINGTON (Reuters) - Le National Transportation Safety Board a déclaré mardi qu'un Tesla Model S était en mode pilote automatique lorsqu'il a heurté un camion d'incendie à Culver City, en Californie, l'une des séries d'écrasements que le conseil enquête sur l'assistance au conducteur de Tesla... [+478 chars]\"\n",
      "Translation : \n",
      " \"WASHINGTON (Reuters) - Le National Transportation Safety Board a déclaré mardi qu'un Tesla Model S était en mode pilote automatique lorsqu'il a heurté un camion d'incendie à Culver City, en Californie, l'une des séries d'écrasements que le conseil enquête sur l'assistance au conducteur de Tesla... [+478 chars]\"\n",
      "\"WASHINGTON (Reuters) - Le National Transportation Safety Board a déclaré mardi\n",
      "qu'un Tesla Model S était en mode pilote automatique lorsqu'il a heurté un\n",
      "camion d'incendie à Culver City, en Californie, l'une des séries d'écrasements\n",
      "que le conseil enquête sur l'assistance au conducteur de Tesla... [+478 chars]\"\n",
      "None\n",
      "\n",
      "Original text: \n",
      " \"Le taux de chômage des Etats-Unis est tombé à 5,2 % le mois dernier, selon les derniers chiffres officiels, ce qui a été plus élevé que ce qui avait été rapporté précédemment en raison d'une révision à la hausse par le Central Statistics Office (CSO), l'un des plusieurs au cours des deux dernières années.\\r\\nNonethe... [+800 chars]\"\n",
      "Translation : \n",
      " \"Le taux de chômage des Etats-Unis est tombé à 5,2 % le mois dernier, selon les derniers chiffres officiels, ce qui a été plus élevé que ce qui avait été rapporté précédemment en raison d'une révision à la hausse par le Central Statistics Office (CSO), l'un des plusieurs au cours des deux dernières années.\\r\\nNonethe... [+800 chars]\"\n",
      "\"Le taux de chômage des Etats-Unis est tombé à 5,2 % le mois dernier, selon les\n",
      "derniers chiffres officiels, ce qui a été plus élevé que ce qui avait été\n",
      "rapporté précédemment en raison d'une révision à la hausse par le Central\n",
      "Statistics Office (CSO), l'un des plusieurs au cours des deux dernières\n",
      "années.\\r\\nNonethe... [+800 chars]\"\n",
      "None\n",
      "\n",
      "Original text: \n",
      " \"Louise Kennedy expose sa collection automne-hiver à Dublin ce soir et le spectacle débutera avec sa nouvelle prise scintillante sur le tartan Black Watch.\\r\\nSixe modèles présenteront plus de 60 ensembles à plus de 200 invités, dont les designers fermaient la frite... [+2156 chars]\"\n",
      "Translation : \n",
      " \"Louise Kennedy expose sa collection automne-hiver à Dublin ce soir et le spectacle débutera avec sa nouvelle prise scintillante sur le tartan Black Watch.\\r\\nSixe modèles présenteront plus de 60 ensembles à plus de 200 invités, dont les designers fermaient la frite... [+2156 chars]\"\n",
      "\"Louise Kennedy expose sa collection automne-hiver à Dublin ce soir et le\n",
      "spectacle débutera avec sa nouvelle prise scintillante sur le tartan Black\n",
      "Watch.\\r\\nSixe modèles présenteront plus de 60 ensembles à plus de 200 invités,\n",
      "dont les designers fermaient la frite... [+2156 chars]\"\n",
      "None\n",
      "\n",
      "Original text: \n",
      " \"Han Kwang Song, le premier footballeur nord-coréen à marquer dans la Serie A ligue italienne, a rejoint les champions en titre Juventus sur prêt de Cagliari.\\r\\nHan a signé un contrat d'un an avec le club avec une option d'achat après la fin de l'année pour cinq millions d'eu... [+1240 chars]\"\n",
      "Translation : \n",
      " \"Han Kwang Song, le premier footballeur nord-coréen à marquer dans la Serie A ligue italienne, a rejoint les champions en titre Juventus sur prêt de Cagliari.\\r\\nHan a signé un contrat d'un an avec le club avec une option d'achat après la fin de l'année pour cinq millions d'eu... [+1240 chars]\"\n",
      "\"Han Kwang Song, le premier footballeur nord-coréen à marquer dans la Serie A\n",
      "ligue italienne, a rejoint les champions en titre Juventus sur prêt de\n",
      "Cagliari.\\r\\nHan a signé un contrat d'un an avec le club avec une option d'achat\n",
      "après la fin de l'année pour cinq millions d'eu... [+1240 chars]\"\n",
      "None\n",
      "\n",
      "Original text: \n",
      " N'est-ce pas?\n",
      "Translation : \n",
      " N'est-ce pas?\n",
      "N'est-ce pas?\n",
      "None\n",
      "\n"
     ]
    }
   ],
   "source": [
    "# Check the model translation from the original language (English) to French\n",
    "translated_texts = perform_translation(english_texts, model, tokenizer)\n",
    "\n",
    "# Create wrapper to properly format the text\n",
    "from textwrap import TextWrapper\n",
    "# Wrap text to 80 characters.\n",
    "wrapper = TextWrapper(width=80)\n",
    "\n",
    "for text in translated_texts:\n",
    "  print(\"Original text: \\n\", text)\n",
    "  print(\"Translation : \\n\", text)\n",
    "  print(print(wrapper.fill(text)))\n",
    "  print(\"\")"
   ]
  }
 ],
 "metadata": {
  "kernelspec": {
   "display_name": "pytorch",
   "language": "python",
   "name": "python3"
  },
  "language_info": {
   "codemirror_mode": {
    "name": "ipython",
    "version": 3
   },
   "file_extension": ".py",
   "mimetype": "text/x-python",
   "name": "python",
   "nbconvert_exporter": "python",
   "pygments_lexer": "ipython3",
   "version": "3.11.4"
  }
 },
 "nbformat": 4,
 "nbformat_minor": 2
}
