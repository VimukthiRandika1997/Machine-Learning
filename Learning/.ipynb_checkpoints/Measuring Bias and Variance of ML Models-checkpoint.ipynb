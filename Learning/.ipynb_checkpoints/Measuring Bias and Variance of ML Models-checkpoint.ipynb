{
 "cells": [
  {
   "cell_type": "code",
   "execution_count": 2,
   "id": "1fbcfc9c-1322-4ae3-84eb-8e36ea796cf3",
   "metadata": {},
   "outputs": [
    {
     "name": "stdout",
     "output_type": "stream",
     "text": [
      "Collecting mlxtend\n",
      "  Downloading mlxtend-0.22.0-py2.py3-none-any.whl (1.4 MB)\n",
      "\u001b[2K     \u001b[38;2;114;156;31m━━━━━━━━━━━━━━━━━━━━━━━━━━━━━━━━━━━━━━━━\u001b[0m \u001b[32m1.4/1.4 MB\u001b[0m \u001b[31m578.7 kB/s\u001b[0m eta \u001b[36m0:00:00\u001b[0mm eta \u001b[36m0:00:01\u001b[0m0:01\u001b[0m:01\u001b[0m\n",
      "\u001b[?25hRequirement already satisfied: scipy>=1.2.1 in /home/vimukthi/anaconda3/envs/pytorch/lib/python3.9/site-packages (from mlxtend) (1.10.1)\n",
      "Requirement already satisfied: joblib>=0.13.2 in /home/vimukthi/anaconda3/envs/pytorch/lib/python3.9/site-packages (from mlxtend) (1.1.1)\n",
      "Requirement already satisfied: scikit-learn>=1.0.2 in /home/vimukthi/anaconda3/envs/pytorch/lib/python3.9/site-packages (from mlxtend) (1.2.2)\n",
      "Requirement already satisfied: numpy>=1.16.2 in /home/vimukthi/anaconda3/envs/pytorch/lib/python3.9/site-packages (from mlxtend) (1.21.5)\n",
      "Requirement already satisfied: matplotlib>=3.0.0 in /home/vimukthi/anaconda3/envs/pytorch/lib/python3.9/site-packages (from mlxtend) (3.5.0)\n",
      "Requirement already satisfied: setuptools in /home/vimukthi/anaconda3/envs/pytorch/lib/python3.9/site-packages (from mlxtend) (65.6.3)\n",
      "Requirement already satisfied: pandas>=0.24.2 in /home/vimukthi/anaconda3/envs/pytorch/lib/python3.9/site-packages (from mlxtend) (1.3.4)\n",
      "Requirement already satisfied: kiwisolver>=1.0.1 in /home/vimukthi/anaconda3/envs/pytorch/lib/python3.9/site-packages (from matplotlib>=3.0.0->mlxtend) (1.4.4)\n",
      "Requirement already satisfied: pyparsing>=2.2.1 in /home/vimukthi/anaconda3/envs/pytorch/lib/python3.9/site-packages (from matplotlib>=3.0.0->mlxtend) (3.0.9)\n",
      "Requirement already satisfied: pillow>=6.2.0 in /home/vimukthi/anaconda3/envs/pytorch/lib/python3.9/site-packages (from matplotlib>=3.0.0->mlxtend) (9.4.0)\n",
      "Requirement already satisfied: fonttools>=4.22.0 in /home/vimukthi/anaconda3/envs/pytorch/lib/python3.9/site-packages (from matplotlib>=3.0.0->mlxtend) (4.25.0)\n",
      "Requirement already satisfied: python-dateutil>=2.7 in /home/vimukthi/anaconda3/envs/pytorch/lib/python3.9/site-packages (from matplotlib>=3.0.0->mlxtend) (2.8.2)\n",
      "Requirement already satisfied: packaging>=20.0 in /home/vimukthi/anaconda3/envs/pytorch/lib/python3.9/site-packages (from matplotlib>=3.0.0->mlxtend) (23.0)\n",
      "Requirement already satisfied: cycler>=0.10 in /home/vimukthi/anaconda3/envs/pytorch/lib/python3.9/site-packages (from matplotlib>=3.0.0->mlxtend) (0.11.0)\n",
      "Requirement already satisfied: pytz>=2017.3 in /home/vimukthi/anaconda3/envs/pytorch/lib/python3.9/site-packages (from pandas>=0.24.2->mlxtend) (2022.7)\n",
      "Requirement already satisfied: threadpoolctl>=2.0.0 in /home/vimukthi/anaconda3/envs/pytorch/lib/python3.9/site-packages (from scikit-learn>=1.0.2->mlxtend) (2.2.0)\n",
      "Requirement already satisfied: six>=1.5 in /home/vimukthi/anaconda3/envs/pytorch/lib/python3.9/site-packages (from python-dateutil>=2.7->matplotlib>=3.0.0->mlxtend) (1.16.0)\n",
      "Installing collected packages: mlxtend\n",
      "Successfully installed mlxtend-0.22.0\n"
     ]
    }
   ],
   "source": [
    "!pip install mlxtend"
   ]
  },
  {
   "cell_type": "markdown",
   "id": "1f8375e9-ddfb-4e99-996c-b7713cb81305",
   "metadata": {},
   "source": [
    "We will use Iris dataset with mlxtend to calculate the bias and variance of a particular model."
   ]
  },
  {
   "cell_type": "markdown",
   "id": "87b2745a-84ed-4e82-9ff0-d35a87b30f2b",
   "metadata": {},
   "source": [
    "# Decision Tree"
   ]
  },
  {
   "cell_type": "code",
   "execution_count": 3,
   "id": "4cb77312-845b-4567-94af-037d4202a899",
   "metadata": {},
   "outputs": [
    {
     "name": "stdout",
     "output_type": "stream",
     "text": [
      "Average Expected Loss: 0.0607n\n",
      "Average Bias: 0.0222\n",
      "Average Variance: 0.0393\n"
     ]
    }
   ],
   "source": [
    "from mlxtend.evaluate import bias_variance_decomp\n",
    "from sklearn.tree import DecisionTreeClassifier\n",
    "from mlxtend.data import iris_data\n",
    "from sklearn.model_selection import train_test_split\n",
    "\n",
    "# Get Data Set\n",
    "X, y = iris_data()\n",
    "X_train_ds, X_test_ds, y_train_ds, y_test_ds = train_test_split(X, y,\n",
    "                                                                test_size=0.3,\n",
    "                                                                random_state=123,\n",
    "                                                                shuffle=True,\n",
    "                                                                stratify=y)\n",
    "\n",
    "# Define Algorithm \n",
    "tree = DecisionTreeClassifier(random_state=123)\n",
    "\n",
    "# Get Bias and Variance - bias_variance_decomp function\n",
    "avg_expected_loss, avg_bias, avg_var = bias_variance_decomp(tree, X_train_ds, y_train_ds, X_test_ds, y_test_ds, \n",
    "                                                            loss='0-1_loss',\n",
    "                                                            random_seed=123,\n",
    "                                                            num_rounds=1000)\n",
    "\n",
    "# Display Bias and Variance\n",
    "print(f'Average Expected Loss: {round(avg_expected_loss, 4)}n')\n",
    "print(f'Average Bias: {round(avg_bias, 4)}')\n",
    "print(f'Average Variance: {round(avg_var, 4)}')"
   ]
  },
  {
   "cell_type": "markdown",
   "id": "3e7cf6ba-91e4-4ae4-b6ad-607defcc8aeb",
   "metadata": {},
   "source": [
    "# Bagging"
   ]
  },
  {
   "cell_type": "code",
   "execution_count": 5,
   "id": "89611e73-427e-4217-b5a1-c6efda075369",
   "metadata": {},
   "outputs": [
    {
     "name": "stdout",
     "output_type": "stream",
     "text": [
      "Average Expected Loss: 0.0459n\n",
      "Average Bias: 0.0222\n",
      "Average Variance: 0.024\n"
     ]
    }
   ],
   "source": [
    "from mlxtend.evaluate import bias_variance_decomp\n",
    "from sklearn.tree import DecisionTreeClassifier\n",
    "from mlxtend.data import iris_data\n",
    "from sklearn.model_selection import train_test_split\n",
    "from sklearn.ensemble import BaggingClassifier\n",
    "\n",
    "# Get Data Set\n",
    "X, y = iris_data()\n",
    "X_train_ds, X_test_ds, y_train_ds, y_test_ds = train_test_split(X, y,\n",
    "                                                                test_size=0.3,\n",
    "                                                                random_state=123,\n",
    "                                                                shuffle=True,\n",
    "                                                                stratify=y)\n",
    "\n",
    "# Define Algorithm \n",
    "tree = DecisionTreeClassifier(random_state=123)\n",
    "bag = BaggingClassifier(estimator=tree,\n",
    "                        n_estimators=100,\n",
    "                        random_state=123)\n",
    "\n",
    "# Get Bias and Variance - bias_variance_decomp function\n",
    "avg_expected_loss, avg_bias, avg_var = bias_variance_decomp(bag, X_train_ds, y_train_ds, X_test_ds, y_test_ds, \n",
    "                                                            loss='0-1_loss',\n",
    "                                                            random_seed=123,\n",
    "                                                            num_rounds=1000)\n",
    "\n",
    "# Display Bias and Variance\n",
    "print(f'Average Expected Loss: {round(avg_expected_loss, 4)}n')\n",
    "print(f'Average Bias: {round(avg_bias, 4)}')\n",
    "print(f'Average Variance: {round(avg_var, 4)}')"
   ]
  },
  {
   "cell_type": "markdown",
   "id": "13ddf51a-de83-409e-bc6e-1229803f7586",
   "metadata": {},
   "source": [
    "# Linear Models"
   ]
  },
  {
   "cell_type": "code",
   "execution_count": 6,
   "id": "a7e55f83-128e-4d8c-86a4-4fc58e2613ec",
   "metadata": {},
   "outputs": [
    {
     "name": "stdout",
     "output_type": "stream",
     "text": [
      "nLeast Square Coefficients: [[2.]]\n",
      "Actual= [8.8]  Preds= [8.]\n",
      "Actual= [14.]  Preds= [10.]\n",
      "Actual= [17.]  Preds= [12.]\n",
      "Variance 101.15\n",
      "Bias: 13.88\n",
      "nRidged Coefficients: [[1.9047619]]\n",
      "Actual= [8.8]  Preds= [7.80952381]\n",
      "Actual= [14.]  Preds= [9.71428571]\n",
      "Actual= [17.]  Preds= [11.61904762]\n",
      "Variance 132.99\n",
      "Bias: 16.1\n",
      "nLasso Coefficients: [1.85]\n",
      "Actual= [8.8]  Preds= 7.7\n",
      "Actual= [14.]  Preds= 9.55\n",
      "Actual= [17.]  Preds= 11.400000000000002\n",
      "Variance 154.25\n",
      "Bias: 17.46\n"
     ]
    }
   ],
   "source": [
    "from sklearn import linear_model\n",
    "import numpy as np\n",
    "from sklearn.metrics import mean_squared_error\n",
    "\n",
    "def calculate_bias_variance(xTest, ytest, model):\n",
    "    ar = np.array([[[1],[2],[3]], [[2],[4],[6]]])\n",
    "    y = ar[1,:]\n",
    "    x = ar[0,:]\n",
    "    if model == 1:\n",
    "        reg = linear_model.LinearRegression()\n",
    "        reg.fit(x,y)\n",
    "        print(f'nLeast Square Coefficients: {reg.coef_}')\n",
    "    if model == 2:\n",
    "        reg = linear_model.Ridge (alpha = 0.1)\n",
    "        reg.fit(x,y)\n",
    "        print(f'nRidged Coefficients: {reg.coef_}')\n",
    "    if model == 3:    \n",
    "        reg = linear_model.Lasso(alpha = 0.1)\n",
    "        reg.fit(x,y)\n",
    "        print(f'nLasso Coefficients: {reg.coef_}')\n",
    "        \n",
    "    preds = reg.predict(xTest)\n",
    "    er = []\n",
    "    \n",
    "    for i in range(len(ytest)):\n",
    "        print( \"Actual=\", ytest[i], \" Preds=\", preds[i])\n",
    "        x = (ytest[i] - preds[i]) **2\n",
    "        er.append(x)\n",
    "        \n",
    "    variance_value = np.var(er)\n",
    "    print (f\"Variance {round(variance_value, 2)}\")\n",
    "    print(f\"Bias: {round(mean_squared_error(ytest,preds), 2)}\")\n",
    "    \n",
    "dateset_a = np.array([[4],[5],[6]])\n",
    "dateset_b = np.array([[8.8],[14],[17]])\n",
    "\n",
    "# Least Square Coefficients\n",
    "calculate_bias_variance(dateset_a,dateset_b, 1)\n",
    "\n",
    "# Ridged Coefficients\n",
    "calculate_bias_variance(dateset_a,dateset_b, 2)\n",
    "\n",
    "# Lasso Coefficients\n",
    "calculate_bias_variance(dateset_a,dateset_b, 3)"
   ]
  }
 ],
 "metadata": {
  "kernelspec": {
   "display_name": "Python (pytorch)",
   "language": "python",
   "name": "pytorch"
  },
  "language_info": {
   "codemirror_mode": {
    "name": "ipython",
    "version": 3
   },
   "file_extension": ".py",
   "mimetype": "text/x-python",
   "name": "python",
   "nbconvert_exporter": "python",
   "pygments_lexer": "ipython3",
   "version": "3.9.16"
  }
 },
 "nbformat": 4,
 "nbformat_minor": 5
}
