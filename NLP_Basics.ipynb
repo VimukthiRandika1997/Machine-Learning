{
 "cells": [
  {
   "cell_type": "code",
   "execution_count": 11,
   "id": "9aea2a6f-15c2-426d-aea9-183f9f1787bf",
   "metadata": {},
   "outputs": [
    {
     "data": {
      "text/html": [
       "<div>\n",
       "<style scoped>\n",
       "    .dataframe tbody tr th:only-of-type {\n",
       "        vertical-align: middle;\n",
       "    }\n",
       "\n",
       "    .dataframe tbody tr th {\n",
       "        vertical-align: top;\n",
       "    }\n",
       "\n",
       "    .dataframe thead th {\n",
       "        text-align: right;\n",
       "    }\n",
       "</style>\n",
       "<table border=\"1\" class=\"dataframe\">\n",
       "  <thead>\n",
       "    <tr style=\"text-align: right;\">\n",
       "      <th></th>\n",
       "      <th>v1</th>\n",
       "      <th>v2</th>\n",
       "      <th>Unnamed: 2</th>\n",
       "      <th>Unnamed: 3</th>\n",
       "      <th>Unnamed: 4</th>\n",
       "    </tr>\n",
       "  </thead>\n",
       "  <tbody>\n",
       "    <tr>\n",
       "      <th>0</th>\n",
       "      <td>ham</td>\n",
       "      <td>Go until jurong point, crazy.. Available only ...</td>\n",
       "      <td>NaN</td>\n",
       "      <td>NaN</td>\n",
       "      <td>NaN</td>\n",
       "    </tr>\n",
       "    <tr>\n",
       "      <th>1</th>\n",
       "      <td>ham</td>\n",
       "      <td>Ok lar... Joking wif u oni...</td>\n",
       "      <td>NaN</td>\n",
       "      <td>NaN</td>\n",
       "      <td>NaN</td>\n",
       "    </tr>\n",
       "    <tr>\n",
       "      <th>2</th>\n",
       "      <td>spam</td>\n",
       "      <td>Free entry in 2 a wkly comp to win FA Cup fina...</td>\n",
       "      <td>NaN</td>\n",
       "      <td>NaN</td>\n",
       "      <td>NaN</td>\n",
       "    </tr>\n",
       "    <tr>\n",
       "      <th>3</th>\n",
       "      <td>ham</td>\n",
       "      <td>U dun say so early hor... U c already then say...</td>\n",
       "      <td>NaN</td>\n",
       "      <td>NaN</td>\n",
       "      <td>NaN</td>\n",
       "    </tr>\n",
       "    <tr>\n",
       "      <th>4</th>\n",
       "      <td>ham</td>\n",
       "      <td>Nah I don't think he goes to usf, he lives aro...</td>\n",
       "      <td>NaN</td>\n",
       "      <td>NaN</td>\n",
       "      <td>NaN</td>\n",
       "    </tr>\n",
       "  </tbody>\n",
       "</table>\n",
       "</div>"
      ],
      "text/plain": [
       "     v1                                                 v2 Unnamed: 2  \\\n",
       "0   ham  Go until jurong point, crazy.. Available only ...        NaN   \n",
       "1   ham                      Ok lar... Joking wif u oni...        NaN   \n",
       "2  spam  Free entry in 2 a wkly comp to win FA Cup fina...        NaN   \n",
       "3   ham  U dun say so early hor... U c already then say...        NaN   \n",
       "4   ham  Nah I don't think he goes to usf, he lives aro...        NaN   \n",
       "\n",
       "  Unnamed: 3 Unnamed: 4  \n",
       "0        NaN        NaN  \n",
       "1        NaN        NaN  \n",
       "2        NaN        NaN  \n",
       "3        NaN        NaN  \n",
       "4        NaN        NaN  "
      ]
     },
     "execution_count": 11,
     "metadata": {},
     "output_type": "execute_result"
    }
   ],
   "source": [
    "# reading data\n",
    "\n",
    "import pandas as pd\n",
    "import matplotlib.pyplot as plt\n",
    "\n",
    "data = pd.read_csv('https://raw.githubusercontent.com/mohitgupta-omg/Kaggle-SMS-Spam-Collection-Dataset-/master/spam.csv', encoding='latin-1')\n",
    "\n",
    "data.head()"
   ]
  },
  {
   "cell_type": "code",
   "execution_count": 12,
   "id": "62e284df-9238-4e14-9216-b6a99b1737bf",
   "metadata": {},
   "outputs": [
    {
     "data": {
      "text/html": [
       "<div>\n",
       "<style scoped>\n",
       "    .dataframe tbody tr th:only-of-type {\n",
       "        vertical-align: middle;\n",
       "    }\n",
       "\n",
       "    .dataframe tbody tr th {\n",
       "        vertical-align: top;\n",
       "    }\n",
       "\n",
       "    .dataframe thead th {\n",
       "        text-align: right;\n",
       "    }\n",
       "</style>\n",
       "<table border=\"1\" class=\"dataframe\">\n",
       "  <thead>\n",
       "    <tr style=\"text-align: right;\">\n",
       "      <th></th>\n",
       "      <th>label</th>\n",
       "      <th>text</th>\n",
       "    </tr>\n",
       "  </thead>\n",
       "  <tbody>\n",
       "    <tr>\n",
       "      <th>0</th>\n",
       "      <td>ham</td>\n",
       "      <td>Go until jurong point, crazy.. Available only ...</td>\n",
       "    </tr>\n",
       "    <tr>\n",
       "      <th>1</th>\n",
       "      <td>ham</td>\n",
       "      <td>Ok lar... Joking wif u oni...</td>\n",
       "    </tr>\n",
       "    <tr>\n",
       "      <th>2</th>\n",
       "      <td>spam</td>\n",
       "      <td>Free entry in 2 a wkly comp to win FA Cup fina...</td>\n",
       "    </tr>\n",
       "    <tr>\n",
       "      <th>3</th>\n",
       "      <td>ham</td>\n",
       "      <td>U dun say so early hor... U c already then say...</td>\n",
       "    </tr>\n",
       "    <tr>\n",
       "      <th>4</th>\n",
       "      <td>ham</td>\n",
       "      <td>Nah I don't think he goes to usf, he lives aro...</td>\n",
       "    </tr>\n",
       "  </tbody>\n",
       "</table>\n",
       "</div>"
      ],
      "text/plain": [
       "  label                                               text\n",
       "0   ham  Go until jurong point, crazy.. Available only ...\n",
       "1   ham                      Ok lar... Joking wif u oni...\n",
       "2  spam  Free entry in 2 a wkly comp to win FA Cup fina...\n",
       "3   ham  U dun say so early hor... U c already then say...\n",
       "4   ham  Nah I don't think he goes to usf, he lives aro..."
      ]
     },
     "execution_count": 12,
     "metadata": {},
     "output_type": "execute_result"
    }
   ],
   "source": [
    "# Drop unnecessary columns\n",
    "data.drop(['Unnamed: 2', 'Unnamed: 3', 'Unnamed: 4'], axis=1, inplace=True)\n",
    "data.columns = ['label', 'text']\n",
    "data.head()"
   ]
  },
  {
   "cell_type": "markdown",
   "id": "22948148-8a97-44b2-81a1-31437fa2b92b",
   "metadata": {},
   "source": [
    "## EDA"
   ]
  },
  {
   "cell_type": "code",
   "execution_count": 13,
   "id": "974f058b-ddf2-4690-89f3-4d2bd6ba1dcf",
   "metadata": {},
   "outputs": [
    {
     "data": {
      "text/plain": [
       "label    0\n",
       "text     0\n",
       "dtype: int64"
      ]
     },
     "execution_count": 13,
     "metadata": {},
     "output_type": "execute_result"
    }
   ],
   "source": [
    "# Check for missing values\n",
    "data.isna().sum()"
   ]
  },
  {
   "cell_type": "code",
   "execution_count": 14,
   "id": "4fdb4953-b8df-41df-8498-e4669ccf2a9c",
   "metadata": {},
   "outputs": [
    {
     "data": {
      "text/plain": [
       "(5572, 2)"
      ]
     },
     "execution_count": 14,
     "metadata": {},
     "output_type": "execute_result"
    }
   ],
   "source": [
    "data.shape"
   ]
  },
  {
   "cell_type": "markdown",
   "id": "15ef1765-3401-4e2b-b945-f87507dad87b",
   "metadata": {},
   "source": [
    "We have 5572 documents"
   ]
  },
  {
   "cell_type": "code",
   "execution_count": 17,
   "id": "e79c98e5-51ea-4fff-b001-ff5fa8e380a5",
   "metadata": {},
   "outputs": [
    {
     "data": {
      "image/png": "[encoded data removed]",
      "text/plain": [
       "<Figure size 1080x360 with 1 Axes>"
      ]
     },
     "metadata": {
      "needs_background": "light"
     },
     "output_type": "display_data"
    }
   ],
   "source": [
    "# Check target balance\n",
    "figure = plt.subplots(figsize=(15, 5))\n",
    "data['label'].value_counts(normalize=True).plot.barh()\n",
    "plt.title('Frequency distribution of Target Class')\n",
    "plt.show()"
   ]
  },
  {
   "cell_type": "markdown",
   "id": "389bb005-49dd-4ca3-88b9-afd7cfd4be58",
   "metadata": {},
   "source": [
    "Looks like we have class imbalance problem here!!!\n",
    "- classes: ham vs spam\n",
    "- we have more instances of ham compared to spam"
   ]
  },
  {
   "cell_type": "markdown",
   "id": "dde24e9e-f33d-40d8-84ca-cf668937d5d2",
   "metadata": {},
   "source": [
    "### Text Preprocessing\n",
    "\n",
    "- Remove all special characters\n",
    "- Lowercase all the words\n",
    "- Tokenize\n",
    "- Remove stopwords\n",
    "- Lemmatize\n",
    "\n",
    "<h1><center>- Text Preprocessing -</center></h1>\n",
    "<img src=\"data:image/png;base64,iVBORw0KGgoAAAANSUhEUgAAAY8AAAB+CAMAAADr/W3dAAABBVBMVEX///8AAACy34r/gID/goK35Y7/hITq6urMzMzJycnb29uv3oX39/fz8/P8/Py7u7vj4+P/fHzxeXmdnZ2Li4ulpaVqampERET/5+eBgYFRUVGysrKfx3vhcXHOZ2diYmJ3d3fx+egoKCj/p6f/iopaWlq5XV2QSUmUlJTZ7sYcHBzm9doxMTGPtG8RERF2lFy44ZT/mZlkMjInMR52Ozv/1NT/wsIsFhYyPydNJyc7Hh5LXjqCo2VAUTJVa0LJ6K5lf04UGQ8bDg7/t7fQl5cNGQDjz8/T4sazwqV0Ly+oXV2DTU0iAABkh0TGUlK+1KvXurrT2s2tdXWdpJZgHh46BgaZf39qT2RPAAAfh0lEQVR4nO2dCWOiSNOA6cgdrkGOCIqsE9E4HjPqvonGuJp97+8+//9P+aq6Ac94RJx3v53U7ghBbLr7oau6u4qG4z7kQz7kQz7kQz7khxCj0NQsz1MLTfAfIUrg6CeeqtY9qbgLa6EX+H7Tc5SiUmwQ4p9alvNFi+seSr1ZWIb3iEoIcU471egQUtcKuzDUnteu+IQ0ikoSitK/XgMxwjZkmXQd95qNUIFL+KedqsOpDaug60pd4mNjMxTSTY+olza+mJD4wiQOSx1qoHKltC2VNm0JblDzyKlZTXmEtIu6fEhIyPYajIfuX5y4piiFNd+9ckUeepe4dEcy5SOnGh7x2G8UpTADDPcyuz5XYc2zXSDsN0R1LtQ0V+Th5PVxVEyS8ihSgEeX1Y6OjU+zoKixTO9vXXFiB/csBUTipLASgwk1rHZMK1TCwxanw+EQ7g/LjSsy/RmIrHEqbnVOSg9j4nI7jp2wcrG138NDNyGzsoGKFy/PaaoTtyU8DrnD0sh4nDNUlnlNqcRllgtJKTuVSlnFW1xDM16RFYMWWU2LrrCSQGJyCKe2ZXoqarRAVnRWXtpAoCq8Cr0aR3/DcnGWaQF9BTnINKVEUoGsyNBtwJ6SxM7xYvpFRfHpFsDIaFYDh/5ZVzy6Bd1ndWHbsbgyPZ0dpi1Ohl92G2nqF8kuD7NPM+vpnEHzV8ZMkIbCchdwVMlDPgL6t+nSTZfedfg9nu0ZnJUVX6JFboLSyI5gno0mVAcmD3Wi++lxU6W9C7yZMVU43MHapBcqs5OOKb51sTr0J50KrSNDa2M/T9MNTu2jQYtpPrGz0WkrbVq2UKmnfQ+J/lBxMQm/LFeyfOHWYqi7Lq0SwMNZDTTzBp51aWdkhwdksCNzTXYUK6Ee0vum77DcYQ3hhQOX3TexGSKCMvLoYLcWM+lC8XFb1qAtyIRqo0pXMihK1ExGva5TNYV/aVi8ugE1pTFC9AsVS91HAE2Wi4BxPV3C7AZwaDsrZ3dzTDvAiFzPMkehQ9EQFUl5BAYrKRRNa6RVvcYDy9pgzclld4pJLjdQOzwC2gYcli2f3c1ZjzVOK77CMo+Z7uosO1gmvYF3IuqpmMu4cDmPGP5hq6H9d6NJuz6EDa9SLnCY8dAgE00NO6z0cJPlAhPun2Xtlazl+fiznEeHlsakdamkl8YbJWR9wZxHWjQHb5/9PDxWERWWwYztJbLNw2Bpltn1Ux5qhw2p3LREKQ8dbo+OtJ0Pi97suzygk0WLtT40XGsONIG0fVhrtcAxHjIdTxByXu9LV5pUq9OMZDywDXRluU0JZDziS3g4q9s2PrP+t2WbB1ZeIFOFKe/wCDfbB3Rot3jouqTLb/DgWIZJ2gHRdEnS3+ChpDXnsVrIePhn8wCRqDqF1pbzkEkubjE8TLYJmfa6SLZ5mKvMmufy0J1u+tM3ePiZxuCMMFcle3hk14kZiHfyyAbjGtoLaZOHr0koWjE88OuOrKBVv3T0tMFDsmjV1HWaWeNMHtgda5hUze/nQXslrHlQS6S9pa+K4eFnOtRinaN1fZXP3xTCg9NZj7lTvnjwvsGjEmzZgrN4KCyTb9kPTvPTI66B5/jcm/ajGH3ld9Idvb+hr7BXlE8wFsPD6tYlVS1i4nedh4Z3FFnvVJ7Fo82q+00edEwB9aJ09KwW3uBhsUzhIGXdnp/Lg6QKy2S5TuuW1X02TCyEhx6QwNI0Xb98bmudh4y3T0DHH3mRzuCR3n8Zj3Z6cvY17R5hNbQDTUmpr/GgN0HKQ9/t776LR5cO8JUuG67SXruqqpyFI95QtWRXy2+WtEhayoMObQ1W4qylZuNBaXUYKSrpQKcLEjhFjAc9C0SVlQrez5jBrqmqCt7bAeOBI93uGg8nNWPIQ2cDA49tfNUqpyXESg5U1cq+Rj44upd9z8DidhQJT/HTBDoy1BSXNqF8PEjnH+psq6d1dapUsKvbwbsgziePWT2qaWfC19iQsWKwyYcyx+YiVDpfAkDY1x77Zd+06OG+XGYJpb9y2SiSSf+cGYRt0QOyKThIywZRfjpfQlQ28eCzmQ8Sp+UK2a8h8+npHMse7fE3dVaNkFv2q2Y+gUL76OxggBfACQf2S0+lF2pAkcIGnbTpKulNAQ2E3rrZDOFJYsmhE8eOmf1EU5y4LbPZs3KlEsKupciyrKiGyrYcbmRFl+hWZodlmaOfiqSzryV161d0jmlVuHeLJrPrZaLQ+0hSMLOqxhnKRjY0lvksd5aW/oZlHqdHaXkNFf/U0olGmf1KlqX8Ugq2aZyMZCnS6UUZ51uzlDAXVliJ2yw/6UEtrasLynst0dokNkHC+smetw+5olRIh9k1ULz1f3BePgTnmNJW4eYuyQ/5Bwp0sxzouKlX965/yEmiZb6dTlhsuNcPIj//4bC8o1KV0A3N3cHHTw8gPxWQ5UyMg3n/+VDOaV7Ok+90d33+dFjuCrvSwy3IQ2HJAY9vhzL+7VAF0rycJ0XeSQfk86fSQSmOx5fbm5vbL4UlhzwOZfwIj5tz5Xvz4EWRz3bSvR+YhyAI1+Fhua55KGcZDz5pJTZi4O1s70weatk96IH6rfEQbqpbVV69ySAIg8HgOjw0petrnBq8NZeU86gNSY1RiPK9s3hoJg4AjcpbIWy/MR5Cb9TbbAPC7KmaHam+kOpVeHBcM9BgcLY3HM8wVvpKbGUUxFb/PTw4o+vRie43rvTb4iHMltVtlYTHst35VXlo+0Ntywry4Hk+45HuUR48/esMHloD57LVvbOcFfUqPPjsvqF5ZTlOt0d4VMkMcFTnKRO2ERbLNR6bJuQSHpJlsfo3LNUCHpquGRx1Eek6i+tWLdhKjVD7XCrVarUSDxRea7XIFjMefAn+4o/x0K3UNa+pqoU8dA3o67rBGcwlxa6kEkW7Ag8bhPHAHd6u1dDwYc5rx3g8P9FaHzEY1WraWEgKSJgvq+lB/BY+LuDR9pt+gLepHPhB0G8asueHXDuoc4bbRCeL6wd+15AD4jcjezwdTsc2D+1jOH19bKU8+GgCEh3hYflwKTQYJl4JXTtOEHBy3Zc51fNBRzpwJZ8LfeIHfymcx39OJsOINgx7PBnatelkOG2JNOePyWEeVVrxc9J/mQtC9enpaTSnGJ6WWfvov4yWIzDqQg++feoJF/CoW5zmg5ZSqTOsTvfKHNdAJ3qbSJyMjry6zinE5D7bE16skZYIPCKx1KJ7wMMmY1EcE3uHh7o+Syh76L+RISV02Xbp5Qj60DBEsOPAjsUZPk4uytfQVwlmuTRNeN6e2GI0Fu+hEPwUtklrh4dWXvknHmZkADyE5ZNwIyAbobp8pgqLqjGqr8DaL+CsKlkIwjO5pH2gBvEaOldBP7fRzHh00c+MPELkgd575PEJ2sI9GYrMfojklfLAv0QxIknOw9CYSF13VVJNQqd0yNXRc8vsR87DAh4O5kC/Go/a6xAaMoGPZCiCzuIxxzbcUnzJznlkGTfazfwRpAdW7wJBHgs03ennIOfRxz/JCI8LQo/MLrLnltUEHo0+t5eHShouZo3yKIlgQDIeJXFIbMpjTKIoSkgr5xH7TILuRiCobpnAg7r89/BQiE+nFa/EA3Jb4luvhBfHEeRdtGsJSUpDMoZmk/NQ/Cznq+fNHujtn/IYESEjIbB2k/WvhCdy80J6vd6ALN7PQ/MasdPt6hxBBbWHB4fx2LHBeNQmk3FrxWMM7QJ5QKFQkl374cWrdq/065UYeaDraQ8PtByoyq7EowTNAdQVSfhHG9oIGY7HJBHtMSHT2q79UFbBKQ/PazyWlAclsc0DRiFPZI5yQfsoY8QD6qv+Wzw4TfbgCPL4dfJYEu9328eQ4LyJuGvPZW9VUKkTM331VvtA93wAf1yLh/04Tlr24zAZ8zwYQaqvINO1Fpnu2o/6qid+VvsQUC6wH15HYzyaWPdrPDJ7TqPVunXGA1DwazzIY2Y/IhG78Qf7VyoLMgs5bI2c1t3hgQ8UoV13yZXGH63X1wjy+hihHUmoxSvBPtj1w/2rdfsxJzd77AdJ7QcORC4bf1SIqknNrgbVUtE1KQgMxqNJLF2qEJ1z2+wBFYW4xufXR9uukfE9teDQ5hPGA0xKDTv1B3lYJNZ1tB8uKWualbcP6G7putJvc06I0ELoQZjGwzV4RGQqQst4FXG3ZduQf+xqiePXwzx6af8Ku7e0B1UdPefdqmw8eDMDOlXyUsWprffzUAnp1gOoEqNNGn6zQdqMBz5eFNSJBzXoOb4v0aegwWaTR1C4CVW/Q9Iq2a1HAt16OD6ZTnb7uxs1EpNGt0J8GXa6vkc95sjDaJJ+A74zXbhSo0kfEfP/eo35EhHun5L42oJuLz8mj1CSSUKmLTAjp4w/oFGMXqqgpJ7nyyecHxFGo3T8MSAv8xeCk4ozQp5GT5f0d4382XJDZT0KygP+ymZNLJmdoUq/luyoRGfYedGGYS0WjBfp5MMp43MrD+hKU6Q8sIOXHldpkBdcWr/K/BVfs+kHZlisQfZByWI5js6XLOhUlVCln0K1R2dMoDEMsgkUOMbme9NvC/R/GFRn7JfPn/jNSaCVnDt/xaTZeeOL68wnphNWpbUNy/ix+V1QUutTiemo/GXnWLZXIA8cJ7+1GkOx/kFF5rr/P+bbYUA+u9kSYTG6EbYPFjGfuCX1pl9+67s1//mqLO/2n8vdZvMt8tRn/ZvhAfI8S13jGY7B/G0cRfKw5LdDze9+ziUv3v3q2MEojV3RVPnNH/z05cuXh18eHh5+KQjKz/eHeNz/ui578pJL7rzdcYisyy/FZPoM+Za1kG/Xu8bXAoNMjqja9WAT8VA6X04Lbigm02fI9+EBRuT78NhoLIfS+eBRTFrYNfzt89BV60Sdr1nShu09nYeR+R+PisEehs3l661QHI+abZ8I5FIe1Wr16/syaflB/8QHxaSKj8+hqdnpp/NoBkdX8UpFKwe+hV7b9O+vQq9aFI8//o2Oy78Dj+pi9PJOHt0y1z75ual6A6caSXqvn8yj4nHmiTzYbLPmZ6vffO2RpVCYviLjbR5pQEPR7UOYj6rvyqMKN652ch8VJx21Cn3wWdFO5qH7Dqed/Pgsnf13PQyfkFFfPQ+Ksx87PHic4inZyTaQi+3H89P7eChnrVLR7GbVKkEj+VYS2cTVER5S58QlOamU83WwnBj1lSAUyKOVxbayIFe+9BqJvBi93vN53CuPboNjPKiLo9q7oYGi+QxWuoc78/fxsBwSu+h7cDzP1DgpDCXJDa0wtOSKp2hq23M1XEkvjk0kgTzC0DQ41SNl91sCwpeS5O8HH0yUQtIMQ4OTXM9zdU4LQ1UzHSU0pdBzLF2JcXk5zirHsYvpIA8lDHVN6Qeu/MtgMCuyfSTDcQIY+Fpr2IrEWou0WnZt+pokYikaj1s1LE5USv7pUDrAozd/ns9HPWAyeH6mkaKrvZsZfPn0Ph5KhVRCE1pJWzZJEx+ubDaIozsk8OI+qQexTxzOCNqySyd8kYfsdzTO9IkbfkvINOJL0T//07Yy0tcBqWVSD0NO6nuy4vu6YRI/IL7VJV5cJ916PabLBTiebPbRlYg8ALequ4BR/qVHRgXaj2mSjEkLfVGtqEWiaEhaiZ28Io+EJNHwsVaKyOMwe6ZxJcZan+fL7YIMegMaZUKeezOccxeqfdh7GlVvMMgE9i7RV1oH3ac4xy7jvK7LmWzNLDQUjT5nYOxos2uk+gqNOuf1UV8NCfrZJjv6SmusdxGkPl2PgS6/QurMaVvmAgyeoBEtMnoN8YGcNl6W2Q806uhI/yqMiuTRuke/ZlKaTEpiaTLkMQCIv398vBdtdLHRUJPHoSj+fcekOqvV0r7cIgrM2M3LCLTTDXkWbp7Z3ouAPql36yvqgoUPnF2XOh770wAeMq6zwJa5Yydu8yA68Egw/61WzkMOmZj1xlp/ykIelAJdGEXq4HoejEfIwKezlyse+EGvXzCPMfML1vot9Ee92hh+VRIfH6mjE9TY61S0gcfKnutmWqKQeJkW+IIOQhoKl3qpRrC3TPcw9Ooie04Xn6IL7fi4GAf1e2zxkNue19nHg38kYunVznmYZSaut774HuVhsfVP6sSiPLhtHlbZ8/zOHh7L4nmMUSdNhq9kxQPU1XQyGZLXLR5SORPiZyoL2sczNAHyRGPfWFTJau8Jox2uysMkrm4Ee3h8EqkO3u3vGt31XtsmD2kvD4t4uvbd2keEbmYQcZ1HgkdsfpNHLuVKbiS/3A7ARKDnPKOwLJbHur7aw4N6VPfpq08YMzNOdvu70sYIk/HoUwp+n9vLo7yB4srtI8FQHxRxQ1+J9Nh+HsaaX+DLbfVpsBhUhXV91c/01cvlPIwGXayGLolI9T7loTEe/Q0eRs6DjQfH5FE8Nh60VvbcIN4+Hu42D/dq7YMyKA1fa7DHsyglkdnzqYiH+NL+9rEmX26Xc5yhusmt+HxtD9rO++25FpKyblCNJHcDA+oHxwCGS0zNABWiGVqXGGUYo1Q6HcnQg46l6UHf0sD0OiGGB0DLP8bDkIknaRjrI1n1Lq5Z5OHytD7RDa2MF1KIA+cEruMTxYC+tqLRD63bCM2vt8tlgeOPYc1OWH932kpa2MkdJ5E4JEkCpmSYJK2Ir/Un9jEefbJcLkcvqLDm1eoL9HLzPQEU1mK2WL5vvkQuu25ZwhGfh+tnW2W3DBsVNjLsu6Hu0g/PkRUYJuLJ9BcWjFS8NvoHRQyKO8yD/kxF0+h5ZZ3DJMEemXhhEy6k4tUULowrpuq6VgjHFfyQORVGob3FYPAvf3lP0Xbl86eoNYZhIAzCRdjD0R/fGiMCULo2H7VgrGjbMMZt2Ud4zJ4Wi8WcLAHDAkeBQjYeBB0m3Aye57PZYFBMps8Q2j7Gp8zvvl+KnS/BwKTskagSi1Kie/n/NIxJPKavqhjCLggLGqeYx5XkewKbMikm02fIN9C9Q7zb/t/4o06bbD86n7hY0gp/Hh2cUiwm02fIt2kyBNtX+vT78J+v5NMn/lA6OB7s9WbPuw94rsntd+BhfN6Q+yiK7qnQP/9wcfpfflkXGjBDAzvOD525+7xHvt2fKH+4eztqyYCcfa32UKpfD8ove6TI5T+glOLGih+r+ET65+eL099cJeSSKJ+f961Qcqqy+vTzgZSNrxh/JQi7CzLstJA9UmwQ0N2hAKZCeKwX5zIep1b++TyOYDiIqOD2kfPgdyM1CuUBN98HD8k88sKtnIcdRbVSifUYU0DicR6q+XYwIpVV4B8o5+/BY60ARfPYq83O4iF3K43DkQ0ZD95uTac2D5ssfoaPkqM8Qr/SPfzOvBWPwfLlO/BYK0DhPAbbi8+czaNb5o68S3Glr+6HjzaPsw24PAMWaUqiYzyIwrVP5EEf9L4uD1S4Ij49XzwP9rTn054Wcg4P9XiI1IqHiDx4e4zrluA9xketY+1DOf6+ru/IQ0xgIAsF2NM++NJlPATaNOa9fTzO6F/JJ/Hg2RosjAfOLIg1Yos4yXCMR3j8fV0Pt1k/8nIeOJvOZ8KWjKF9ELblS1OcXqcxJumZpfRL0U4O8xCY5PEkwvoOtg58kjAthpAXiG4Hp7cPxSPNuM3hWiI+qhWz4mhmYDqO4gZdVwq9bizd3dut4WSYpDxwGk5MJmQ8FpNWq3aYh1knXhxyhtn0fVyLv+JIimfCRi77vmmFza6jPdwOXp6eBkXw+NdWK2pNJ0ktmUzRN1sbT6fYkMVoDEfF2pgMxzUoQCRG6ZkILRmij/AgD643n/cGT6NBdfY8muMztb35CPMsVOdwFP58Ic/z6mI+EG5m8wV8+QItBU56enomi9Pbh+WSsorr8JuSFTQ0TvOIV+/IIamX3YA0HbdCPOO+Nq1RHyflUaqB/agNSRTxeHCHh7a+ppnqEFO1OIfIktpvckaZ1Ovd0HBIXHa7xHNCj5Qfbke9KnvO/uL2MSbjVusRPhKoYLE2HdNFJehDtfgPLEdkl6i3YExaSfJIqD1M7Gj6uGs/1vxrxtcBeV4MnsjLYjBHv22VLKo9shCqQKcKB6pzMuvdVMkLNIsRGcwGZInrZyyq1WdSPUNfKew1Y/gIsoXe7woxOFlS0DPFfK1dYtzbkUiDMJi+KuHemOBtl+yz5976U1bU9SRRv7pJn2iWMQCxTHTmCQN733y4xdCM/lMRPFqkRJ2woFLJ+J6urkIdURNb5MdTm64sw9tsXRwez4x4fvJYQheVvcNDa+S3lvF1RnoCWzWGrtQwH1UFXG2JrluCHwuqr5CH8LRE1xT8TVfHmpHZuTyYv1Zv1A3gwdGqw3ggEnP4rgTjviSW7NoxHqqTSgXfjJlJmPn9sOvgsD/RG0hXmMGIIuSBqpYUxMNmj/xDLof301ebPWv+OoQdoMPCSVIeJXZmaTJly6zlPMKsJM0sBCblwRa+EtBXvnypVhHGCBfAwuUB2EIBjAd8LwyQx7J68x4edKEETvN9nbaPHR5gP4bDYzzyt7uGpL0aYFIANGKBw4UA9vMYvLy8XIPHK5lMJlNcy+cVF7t63ceDx9VmaHlyHnJaEDnuZ52dHR5kiathLauE4PYNHrTxDEjvfTx0P3iDx3AKnamT9VWw3mM7hQdt1str8Hi9x9VVRLqwBMo+HnxtOk3GJNljPxr5wGmXxzPrRJFR2pvax+PmhQwWZHFOf5fyoKGCnN73uP08MP7tZPthbIz+KACaHI183MvjTyMhW0OnWB4Tkq5N+zikDxfwe3nYkyiJbH6Xh7ZSuzs8Rk9s1JGvFLePh/A8mM2qZ40HWWiJ73OpFcnsh7zBA26vtH2UVjxE7JpE28+kbgkdfxjp28nkjIeLPKScx5LFmRVjz3EJn5QHNew42hiDHWftA5e/yXnQdX748WOEa0MeGQ+u8+iDPafxoUIaV8KWK8NSpPac8QC7QgNSTueBke6KzqkNTw77MfzdJIrFSQ5pW7pJAlWTG+TP99BtB/sxrEWoi0EJDyMRlzGJIug//vFg+mpMyorBmR0YcEDzkCoEJ2csj4SSFJJY1RTS/bcFeXp+IWAYe2TZu4gHdMNpBscYUDKNgMOkNR5Di5hCF3jcgvbw2Erw+4ieif1fjI6j0jrMY4F91xmuGtNbQlOoPkH/d764uXmGLvB8TqdK5oMeGUGnd0ng45kMcE0TlJczeCgyfbu6ZDplnIZVFXw5kgSfqg4fMr7y6N/v7QS67RETu4affAmXp8a9IzwwfXw/fehQEIqspBspu4j8b7ezBdxHPShur3chjzyDNsslDPsSXAXVxh1UZfAn/T4/0xZrj/gExfDgIzFGtdebsQzeoJMQxoG9BeQaNFW2hUL04PsZTlOnHzcj0FezZ/JfF5RpV+7u6forG5I+wAI7Rfg/2DwEnV64cH53K5d0boTNl7AdfqckYFzoHEp0mMdXIc1gPmOyOV+Sz5II6aru+PGyoA/w/OnSV4pvyu/bPwg6DIMV+dY///lAyu/yR1WZbZmRv15Qpl2549/0RhfkP79ZczsX7j8/Kv/9P6Cu/kb+9Zj//HwBmzODDu+/FOs/N+5W8vO3dbn/9e5ATMap8hOGZTz8lMolL5hZz+kZ8ue20zbv7g5e+ad3yX+UnXYI2wvKdFjuNhwHBTQOkJ9ub4t2+f8wcideg0fhIRg/jHwfHtIlr7T93Yoe7kaeXMoD09zW07s82v3LX8P9exEtzuc0laAvQRV6ax3z9/HQ8iQMxW/g8NNbawE7PKRufM5SAr9vUdbe71vp0Fetr71g9n08FPaudiq4AjMXknj17Q4PL9Qah0NSfiQJVwEIlAcXrtXNnbgepXiyvlpLgvLgwrWlA7Z5KL7pheuL8f+Yoku0jlBzG7jWjKYxHvkBXaI8eHwclT7Tcjw4cU+ayMNYpanv8vDlSscIzllg5XcoWrvrdx2d0+O6w6le3QqDkPKQ4nqZkz0vjBuNtnEnislkOm2JteEwSob/ezBN3YE02xom0cYkLNcPKQ/Lq7uc4nkmpFk2tnhA0yg3OLlx7RL/tkXC193RAAa0HyYJnLid6itC327TVlWPKHc0WAB96RFOZcfbyejhTprogkYTFJKm47lMXxn4EG0ZQ1vqRN3kIXV0zoQsxHtf9fbDiIF+Imp2+wFz6GnqBg+LPjF+Zw+HJRqqga6cT7uT7c21uUxNTX+dJqFyurrBQ6JBJps8cMUQBd/41fnBTbohSQQfSM94cNwGDxq2U77DFxpEtTGpoatzZT/CZp1Jk9S1zTTXeXDcNg91i4fqoxcG20b7rRWsfwiR4sCLN9oH9waPx/FwPBzamzx0iYneXr1dBkYZmOZ5PGgwhIVp6MHJCwr+DgVXwuBOah9pqMYmj0z07lolBh19S19xx3gowWr0bja5H1coihN42NM0VGM/j80069yZPPQuHfyU2ZC0efJqmL8/wbcOGmv6imqdSocuJpbZc+SB63rRR+ipPT/Cw89CSzZ4oH3JeVgbPMox3ZhsowY/7jSWSzq+R/qK6pK+K3skNg099ImjwoGuC93Siio5JPj3e3tIpsNJC0PFjz0cVSYNSLOBaTZcGZIwOcntkrYll4nvqgFxLKtCmv9xk/GwiN9EgW4B3ZAfeBpLNVUDhtOaBKZZx/+wc6RLGj2AH5oBHzhfUkswZANXjTo2PldNa2+aep4mfnzJeWjSlhxcMfND8vmr9FGXD3/UP1qu46/94PFeudsIXyog+Arkp5sPHu+VrQiOS4JBVmleGlbyIR/yIR/yIR/yIR/yIR/yIb9F+T/rgPiLvN31agAAAABJRU5ErkJggg==\">\n"
   ]
  },
  {
   "cell_type": "code",
   "execution_count": 22,
   "id": "f9b673cf-76e7-43df-9e8b-a4a5f1f9d7a6",
   "metadata": {},
   "outputs": [
    {
     "name": "stderr",
     "output_type": "stream",
     "text": [
      "[nltk_data] Downloading package stopwords to\n",
      "[nltk_data]     /home/vimukthi/nltk_data...\n",
      "[nltk_data]   Package stopwords is already up-to-date!\n",
      "[nltk_data] Downloading package wordnet to /home/vimukthi/nltk_data...\n",
      "[nltk_data]   Package wordnet is already up-to-date!\n",
      "[nltk_data] Downloading package omw-1.4 to /home/vimukthi/nltk_data...\n"
     ]
    },
    {
     "data": {
      "text/html": [
       "<div>\n",
       "<style scoped>\n",
       "    .dataframe tbody tr th:only-of-type {\n",
       "        vertical-align: middle;\n",
       "    }\n",
       "\n",
       "    .dataframe tbody tr th {\n",
       "        vertical-align: top;\n",
       "    }\n",
       "\n",
       "    .dataframe thead th {\n",
       "        text-align: right;\n",
       "    }\n",
       "</style>\n",
       "<table border=\"1\" class=\"dataframe\">\n",
       "  <thead>\n",
       "    <tr style=\"text-align: right;\">\n",
       "      <th></th>\n",
       "      <th>label</th>\n",
       "      <th>text</th>\n",
       "    </tr>\n",
       "  </thead>\n",
       "  <tbody>\n",
       "    <tr>\n",
       "      <th>0</th>\n",
       "      <td>ham</td>\n",
       "      <td>gountiljurongpointcrazyavailableonlyinbugisngr...</td>\n",
       "    </tr>\n",
       "    <tr>\n",
       "      <th>1</th>\n",
       "      <td>ham</td>\n",
       "      <td>oklarjokingwifuoni</td>\n",
       "    </tr>\n",
       "    <tr>\n",
       "      <th>2</th>\n",
       "      <td>spam</td>\n",
       "      <td>freeentryinawklycomptowinfacupfinaltktsstmayte...</td>\n",
       "    </tr>\n",
       "    <tr>\n",
       "      <th>3</th>\n",
       "      <td>ham</td>\n",
       "      <td>udunsaysoearlyhorucalreadythensay</td>\n",
       "    </tr>\n",
       "    <tr>\n",
       "      <th>4</th>\n",
       "      <td>ham</td>\n",
       "      <td>nahidontthinkhegoestousfhelivesaroundherethough</td>\n",
       "    </tr>\n",
       "  </tbody>\n",
       "</table>\n",
       "</div>"
      ],
      "text/plain": [
       "  label                                               text\n",
       "0   ham  gountiljurongpointcrazyavailableonlyinbugisngr...\n",
       "1   ham                                 oklarjokingwifuoni\n",
       "2  spam  freeentryinawklycomptowinfacupfinaltktsstmayte...\n",
       "3   ham                  udunsaysoearlyhorucalreadythensay\n",
       "4   ham    nahidontthinkhegoestousfhelivesaroundherethough"
      ]
     },
     "execution_count": 22,
     "metadata": {},
     "output_type": "execute_result"
    }
   ],
   "source": [
    "# Text preprocessing\n",
    "\n",
    "import nltk\n",
    "# nltk.download('all')\n",
    "nltk.download('stopwords')\n",
    "nltk.download('wordnet')\n",
    "nltk.download('omw-1.4')\n",
    "\n",
    "# create a list text\n",
    "text = list(data['text'])\n",
    "\n",
    "# preprocess loop\n",
    "import re\n",
    "from nltk.corpus import stopwords\n",
    "from nltk.stem import WordNetLemmatizer\n",
    "\n",
    "lemmatizer = WordNetLemmatizer()\n",
    "\n",
    "corpus = []\n",
    "\n",
    "for i in range(len(text)):\n",
    "    r = re.sub('[^a-zA-Z]', '', text[i])\n",
    "    r = r.lower()\n",
    "    r = r.split()\n",
    "    r = [word for word in r if word not in stopwords.words('english')]\n",
    "    r = [lemmatizer.lemmatize(word) for word in r]\n",
    "    r = ' '.join(r)\n",
    "    corpus.append(r)\n",
    "\n",
    "# assign corpus to data['text']\n",
    "data['text'] = corpus\n",
    "data.head()\n"
   ]
  },
  {
   "cell_type": "code",
   "execution_count": 23,
   "id": "c64b29ac-af90-4dd8-b009-c06935e3f18c",
   "metadata": {},
   "outputs": [
    {
     "data": {
      "text/plain": [
       "'gountiljurongpointcrazyavailableonlyinbugisngreatworldlaebuffetcinetheregotamorewat'"
      ]
     },
     "execution_count": 23,
     "metadata": {},
     "output_type": "execute_result"
    }
   ],
   "source": [
    "data['text'][0]"
   ]
  },
  {
   "cell_type": "markdown",
   "id": "6e33edd9-b84a-4af4-b13b-38a108b16a1b",
   "metadata": {},
   "source": [
    "### Train-Test Split\n",
    "\n",
    "Let's split the dataset into train and test before feature extraction"
   ]
  },
  {
   "cell_type": "code",
   "execution_count": 24,
   "id": "78f97b5b-ce82-4520-95a8-6214cabf5ade",
   "metadata": {},
   "outputs": [
    {
     "name": "stdout",
     "output_type": "stream",
     "text": [
      "Training Data:  (3900,)\n",
      "Test Data:  (1672,)\n"
     ]
    }
   ],
   "source": [
    "# create Feature and Label sets\n",
    "X = data['text']\n",
    "y = data['label']\n",
    "\n",
    "# train test split (70% train - 30% test)\n",
    "\n",
    "from sklearn.model_selection import train_test_split\n",
    "X_train, X_test, y_train, y_test = train_test_split(X, y, test_size=0.30, random_state=123)\n",
    "\n",
    "print('Training Data: ', X_train.shape)\n",
    "print('Test Data: ', X_test.shape)"
   ]
  },
  {
   "cell_type": "markdown",
   "id": "c390777f-2362-485f-9f16-9ff4da83010c",
   "metadata": {},
   "source": [
    "### Feature Extraction\n",
    "\n",
    "Here Bag of Words model(CountVectorizer) to convert the cleaned text into numeric features."
   ]
  },
  {
   "cell_type": "code",
   "execution_count": 25,
   "id": "3e0f131b-1b7c-48e1-8b11-4d953798369c",
   "metadata": {},
   "outputs": [
    {
     "data": {
      "text/plain": [
       "(3900, 3612)"
      ]
     },
     "execution_count": 25,
     "metadata": {},
     "output_type": "execute_result"
    }
   ],
   "source": [
    "# Train Bag of Words model\n",
    "from sklearn.feature_extraction.text import CountVectorizer\n",
    "\n",
    "cv = CountVectorizer()\n",
    "\n",
    "X_train_cv = cv.fit_transform(X_train)\n",
    "X_train_cv.shape"
   ]
  },
  {
   "cell_type": "markdown",
   "id": "5d58d30b-e563-4175-a9c6-41cfba32aa04",
   "metadata": {},
   "source": [
    "### Model Training and Evaluation\n",
    "\n",
    "- We are training a Logistic regression model and evaluating the confusion matrix of the trained model."
   ]
  },
  {
   "cell_type": "code",
   "execution_count": 26,
   "id": "e52fc51b-5e44-4126-8756-b100e5cd4c43",
   "metadata": {},
   "outputs": [
    {
     "data": {
      "text/plain": [
       "array(['ham', 'ham', 'ham', ..., 'ham', 'ham', 'ham'], dtype=object)"
      ]
     },
     "execution_count": 26,
     "metadata": {},
     "output_type": "execute_result"
    }
   ],
   "source": [
    "# Training Logistic Regresssion Model\n",
    "\n",
    "from sklearn.linear_model import LogisticRegression\n",
    "\n",
    "lr = LogisticRegression()\n",
    "\n",
    "lr.fit(X_train_cv, y_train)\n",
    "\n",
    "# transform X_test using CV\n",
    "X_test_cv = cv.transform(X_test)\n",
    "\n",
    "# Generate predictions\n",
    "predictions = lr.predict(X_test_cv)\n",
    "\n",
    "predictions"
   ]
  },
  {
   "cell_type": "code",
   "execution_count": 27,
   "id": "8f9e6cf9-3f2d-4fd6-b6dc-6e5871abdead",
   "metadata": {},
   "outputs": [
    {
     "data": {
      "text/html": [
       "<div>\n",
       "<style scoped>\n",
       "    .dataframe tbody tr th:only-of-type {\n",
       "        vertical-align: middle;\n",
       "    }\n",
       "\n",
       "    .dataframe tbody tr th {\n",
       "        vertical-align: top;\n",
       "    }\n",
       "\n",
       "    .dataframe thead th {\n",
       "        text-align: right;\n",
       "    }\n",
       "</style>\n",
       "<table border=\"1\" class=\"dataframe\">\n",
       "  <thead>\n",
       "    <tr style=\"text-align: right;\">\n",
       "      <th></th>\n",
       "      <th>ham</th>\n",
       "      <th>spam</th>\n",
       "    </tr>\n",
       "  </thead>\n",
       "  <tbody>\n",
       "    <tr>\n",
       "      <th>ham</th>\n",
       "      <td>1457</td>\n",
       "      <td>0</td>\n",
       "    </tr>\n",
       "    <tr>\n",
       "      <th>spam</th>\n",
       "      <td>210</td>\n",
       "      <td>5</td>\n",
       "    </tr>\n",
       "  </tbody>\n",
       "</table>\n",
       "</div>"
      ],
      "text/plain": [
       "       ham  spam\n",
       "ham   1457     0\n",
       "spam   210     5"
      ]
     },
     "execution_count": 27,
     "metadata": {},
     "output_type": "execute_result"
    }
   ],
   "source": [
    "# Confusion matrix\n",
    "\n",
    "import pandas as pd\n",
    "\n",
    "from sklearn import metrics\n",
    "\n",
    "df = pd.DataFrame(metrics.confusion_matrix(y_test, predictions), index=['ham', 'spam'], columns=['ham', 'spam'])\n",
    "df"
   ]
  },
  {
   "cell_type": "code",
   "execution_count": null,
   "id": "f5225c3d-c462-4f66-8ca3-33792339ecf6",
   "metadata": {},
   "outputs": [],
   "source": []
  }
 ],
 "metadata": {
  "kernelspec": {
   "display_name": "Python (pytorch)",
   "language": "python",
   "name": "pytorch"
  },
  "language_info": {
   "codemirror_mode": {
    "name": "ipython",
    "version": 3
   },
   "file_extension": ".py",
   "mimetype": "text/x-python",
   "name": "python",
   "nbconvert_exporter": "python",
   "pygments_lexer": "ipython3",
   "version": "3.9.16"
  }
 },
 "nbformat": 4,
 "nbformat_minor": 5
}
