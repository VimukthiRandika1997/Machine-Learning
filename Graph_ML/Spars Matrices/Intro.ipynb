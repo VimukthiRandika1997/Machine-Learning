{
 "cells": [
  {
   "cell_type": "markdown",
   "id": "940aa1c1-63c6-46ed-a34d-3a4cf9eed057",
   "metadata": {},
   "source": [
    "# Dense Matrix to Sparse Matrix"
   ]
  },
  {
   "cell_type": "code",
   "execution_count": 7,
   "id": "32a93b26-2b49-40cc-8e58-189da9b69751",
   "metadata": {},
   "outputs": [
    {
     "name": "stdout",
     "output_type": "stream",
     "text": [
      "[[1 0 0 1 0 0]\n",
      " [0 0 2 0 0 1]\n",
      " [0 0 0 2 0 0]] \n",
      "\n",
      "  (0, 0)\t1\n",
      "  (0, 3)\t1\n",
      "  (1, 2)\t2\n",
      "  (1, 5)\t1\n",
      "  (2, 3)\t2 \n",
      "\n",
      "[[1 0 0 1 0 0]\n",
      " [0 0 2 0 0 1]\n",
      " [0 0 0 2 0 0]]\n"
     ]
    }
   ],
   "source": [
    "from numpy import array\n",
    "from scipy.sparse import csr_matrix\n",
    "\n",
    "# Create a dense matrix\n",
    "A = array([[1, 0, 0, 1, 0, 0], [0, 0, 2, 0, 0, 1], [0, 0, 0, 2, 0, 0]])\n",
    "print(A, \"\\n\")\n",
    "# Convert to sparse matrix (CSR method)\n",
    "S = csr_matrix(A)\n",
    "print(S, \"\\n\")\n",
    "# Reconstruct dense matrix\n",
    "B = S.todense()\n",
    "print(B)"
   ]
  },
  {
   "cell_type": "code",
   "execution_count": 9,
   "id": "683e069d-f4c0-4f17-8e00-fa47a8cb8288",
   "metadata": {},
   "outputs": [
    {
     "name": "stdout",
     "output_type": "stream",
     "text": [
      "sparsity: 0.7222222222222222\n"
     ]
    }
   ],
   "source": [
    "from numpy import count_nonzero\n",
    "sparsity = 1.0 - count_nonzero(A) / A.size\n",
    "print(f'sparsity: {sparsity}')"
   ]
  }
 ],
 "metadata": {
  "kernelspec": {
   "display_name": "Python (pytorch)",
   "language": "python",
   "name": "pytorch"
  },
  "language_info": {
   "codemirror_mode": {
    "name": "ipython",
    "version": 3
   },
   "file_extension": ".py",
   "mimetype": "text/x-python",
   "name": "python",
   "nbconvert_exporter": "python",
   "pygments_lexer": "ipython3",
   "version": "3.9.16"
  }
 },
 "nbformat": 4,
 "nbformat_minor": 5
}
