{
 "cells": [
  {
   "cell_type": "code",
   "execution_count": 2,
   "metadata": {},
   "outputs": [],
   "source": [
    "import networkx as nx\n",
    "\n",
    "G = nx.Graph()\n",
    "V = {\"Dublin\", \"Paris\", \"Milan\", \"Rome\"}\n",
    "E = {(\"Milan\", \"Dublin\"), (\"Milan\", \"Paris\"), (\"Paris\", \"Dublin\"), (\"Milan\", \"Rome\")}\n",
    "G.add_nodes_from(V)\n",
    "G.add_edges_from(E)"
   ]
  },
  {
   "cell_type": "code",
   "execution_count": 6,
   "metadata": {},
   "outputs": [
    {
     "name": "stdout",
     "output_type": "stream",
     "text": [
      "V = ['Rome', 'Milan', 'Paris', 'Dublin']\n",
      "E = [('Rome', 'Milan'), ('Milan', 'Paris'), ('Milan', 'Dublin'), ('Paris', 'Dublin')]\n",
      "Graph Order: 4\n",
      "Graph Size: 4\n",
      "Degree for nodes: {'Rome': 1, 'Milan': 3, 'Paris': 2, 'Dublin': 2}\n",
      "Neighbors nodes: {'Rome': ['Milan'], 'Milan': ['Paris', 'Rome', 'Dublin'], 'Paris': ['Milan', 'Dublin'], 'Dublin': ['Paris', 'Milan']}\n"
     ]
    }
   ],
   "source": [
    "print(f\"V = {G.nodes}\")\n",
    "print(f\"E = {G.edges}\")\n",
    "print(f\"Graph Order: {G.number_of_nodes()}\")\n",
    "print(f\"Graph Size: {G.number_of_edges()}\")\n",
    "print(f\"Degree for nodes: { {v: G.degree(v) for v in G.nodes}}\")\n",
    "print(f\"Neighbors nodes: { {v: list(G.neighbors(v)) for v in G.nodes}}\")"
   ]
  },
  {
   "cell_type": "code",
   "execution_count": 8,
   "metadata": {},
   "outputs": [
    {
     "name": "stdout",
     "output_type": "stream",
     "text": [
      "Nodes: ['Rome', 'Milan', 'Paris', 'Dublin']\n",
      "Edges: [('Rome', 'Milan'), ('Milan', 'Paris'), ('Milan', 'Dublin'), ('Paris', 'Dublin')]\n"
     ]
    }
   ],
   "source": [
    "# Computing ego-graph (neighborhood graph)\n",
    "ego_graph_milan = nx.ego_graph(G, \"Milan\")\n",
    "print(f\"Nodes: {ego_graph_milan.nodes}\")\n",
    "print(f\"Edges: {ego_graph_milan.edges}\")"
   ]
  },
  {
   "cell_type": "code",
   "execution_count": 9,
   "metadata": {},
   "outputs": [
    {
     "name": "stdout",
     "output_type": "stream",
     "text": [
      "V = ['Rome', 'Milan', 'Paris', 'Dublin', 'Madrid', 'London']\n",
      "E = [('Rome', 'Milan'), ('Rome', 'London'), ('Milan', 'Paris'), ('Milan', 'Dublin'), ('Paris', 'Dublin'), ('Paris', 'Madrid')]\n"
     ]
    }
   ],
   "source": [
    "# Adding new nodes and edges\n",
    "new_nodes = {\"London\", \"Madrid\"}\n",
    "new_edges = {(\"London\", \"Rome\"), (\"Madrid\", \"Paris\")}\n",
    "G.add_nodes_from(new_nodes)\n",
    "G.add_edges_from(new_edges)\n",
    "print(f\"V = {G.nodes}\")\n",
    "print(f\"E = {G.edges}\")"
   ]
  },
  {
   "cell_type": "code",
   "execution_count": 10,
   "metadata": {},
   "outputs": [
    {
     "name": "stdout",
     "output_type": "stream",
     "text": [
      "V = ['Rome', 'Milan', 'Paris', 'Dublin']\n",
      "E = [('Rome', 'Milan'), ('Milan', 'Paris'), ('Milan', 'Dublin'), ('Paris', 'Dublin')]\n"
     ]
    }
   ],
   "source": [
    "# Removing nodes\n",
    "node_to_remove = {\"London\", \"Madrid\"}\n",
    "G.remove_nodes_from(node_to_remove)\n",
    "print(f\"V = {G.nodes}\")\n",
    "print(f\"E = {G.edges}\")"
   ]
  }
 ],
 "metadata": {
  "kernelspec": {
   "display_name": "Python 3.10.6 ('graphNN')",
   "language": "python",
   "name": "python3"
  },
  "language_info": {
   "codemirror_mode": {
    "name": "ipython",
    "version": 3
   },
   "file_extension": ".py",
   "mimetype": "text/x-python",
   "name": "python",
   "nbconvert_exporter": "python",
   "pygments_lexer": "ipython3",
   "version": "3.10.6"
  },
  "orig_nbformat": 4,
  "vscode": {
   "interpreter": {
    "hash": "525a226c4885bca6572c465d9567960f783dc045dee2dc3e7965a3f6ddcb8b3f"
   }
  }
 },
 "nbformat": 4,
 "nbformat_minor": 2
}
