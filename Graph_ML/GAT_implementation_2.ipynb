{
 "cells": [
  {
   "cell_type": "markdown",
   "id": "a387e117-514d-472c-8370-f33ddfe5aedc",
   "metadata": {
    "tags": []
   },
   "source": [
    "# Dataset Exploration"
   ]
  },
  {
   "cell_type": "code",
   "execution_count": 1,
   "id": "d8fab49d-fdd7-41b1-8f66-3ddccaca890a",
   "metadata": {},
   "outputs": [
    {
     "name": "stdout",
     "output_type": "stream",
     "text": [
      "Dataset: KarateClub()\n",
      "===================\n",
      "Number of graphs: 1\n",
      "Number of features: 34\n",
      "Number of classes: 4\n",
      "Number of classes: Data(x=[34, 34], edge_index=[2, 156], y=[34], train_mask=[34])\n"
     ]
    }
   ],
   "source": [
    "from torch_geometric.datasets import KarateClub\n",
    "\n",
    "dataset = KarateClub()\n",
    "print(f'Dataset: {dataset}')\n",
    "print(f'===================')\n",
    "print(f'Number of graphs: {len(dataset)}')\n",
    "print(f'Number of features: {dataset.num_features}')\n",
    "print(f'Number of classes: {dataset.num_classes}')\n",
    "print(f'Number of classes: {dataset[0]}')"
   ]
  },
  {
   "cell_type": "code",
   "execution_count": 2,
   "id": "af67c678-4967-4c3c-bf32-fdc531efb900",
   "metadata": {},
   "outputs": [
    {
     "name": "stdout",
     "output_type": "stream",
     "text": [
      "torch.Size([156]) torch.Size([156])\n"
     ]
    }
   ],
   "source": [
    "from torch_sparse import SparseTensor\n",
    "row, col = dataset[0].edge_index\n",
    "N = dataset[0].num_nodes\n",
    "\n",
    "adj = SparseTensor(row=row, col=col, sparse_sizes=(N, N))\n",
    "print(row.shape, col.shape)\n",
    "\n",
    "# dataset[0].edge_index\n",
    "# adj\n",
    "# set_diag(adj)"
   ]
  },
  {
   "cell_type": "code",
   "execution_count": 3,
   "id": "382cd927-c1cd-4cb6-afa0-90e6d7d0eaa1",
   "metadata": {},
   "outputs": [
    {
     "data": {
      "text/plain": [
       "torch.Tensor"
      ]
     },
     "execution_count": 3,
     "metadata": {},
     "output_type": "execute_result"
    }
   ],
   "source": [
    "type(dataset[0].edge_index)"
   ]
  },
  {
   "cell_type": "code",
   "execution_count": 4,
   "id": "6ab5c11c-3921-41b7-9726-b48ca73b4e4e",
   "metadata": {},
   "outputs": [
    {
     "data": {
      "text/plain": [
       "Data(x=[34, 34], edge_index=[2, 156], y=[34], train_mask=[34])"
      ]
     },
     "execution_count": 4,
     "metadata": {},
     "output_type": "execute_result"
    }
   ],
   "source": [
    "data = dataset[0]\n",
    "data"
   ]
  },
  {
   "cell_type": "markdown",
   "id": "56559e67-275c-41cc-9063-8e850d71beae",
   "metadata": {
    "tags": []
   },
   "source": [
    "# GAT Model Creation"
   ]
  },
  {
   "cell_type": "code",
   "execution_count": 5,
   "id": "2d91e432-8eda-4b4b-8d9b-4c9014eab780",
   "metadata": {},
   "outputs": [
    {
     "name": "stdout",
     "output_type": "stream",
     "text": [
      "/home/vimukthi/MyProjects/Machine-Learning/Graph_ML\n",
      "/home/vimukthi/MyProjects/Machine-Learning/Graph_ML\n"
     ]
    }
   ],
   "source": [
    "from Classes.GAT import GATConv\n",
    "import os\n",
    "path = os.getcwd()\n",
    "print(path)"
   ]
  },
  {
   "cell_type": "code",
   "execution_count": 6,
   "id": "eba06340-b6f9-4088-ae34-64f887f2c8ed",
   "metadata": {},
   "outputs": [],
   "source": [
    "import torch\n",
    "import torch.nn.functional as F\n",
    "import torch.nn as nn\n",
    "\n",
    "class GAT(nn.Module):\n",
    "    def __init__(self, in_features, out_features, heads=1):\n",
    "        super().__init__()\n",
    "        self.conv1 = GATConv(in_features, out_features, heads)\n",
    "        self.conv2 = GATConv(heads * out_features, dataset.num_classes, heads)\n",
    "        \n",
    "    def forward(self, x, edge_index):\n",
    "        x = F.dropout(x, p=0.6, training=self.training)\n",
    "        x = self.conv1(x, edge_index)\n",
    "        x = F.relu(x)\n",
    "        x = F.dropout(x, p=0.6, training=self.training)\n",
    "        x = self.conv2(x, edge_index)\n",
    "        return x"
   ]
  },
  {
   "cell_type": "code",
   "execution_count": 7,
   "id": "fff44492-1a63-4e69-8d2d-ac6e44f209eb",
   "metadata": {},
   "outputs": [
    {
     "name": "stdout",
     "output_type": "stream",
     "text": [
      "GAT(\n",
      "  (conv1): GATConv(34, 16, heads=1)\n",
      "  (conv2): GATConv(16, 4, heads=1)\n",
      ")\n"
     ]
    }
   ],
   "source": [
    "model = GAT(in_features=34, out_features=16)\n",
    "print(model)"
   ]
  },
  {
   "cell_type": "code",
   "execution_count": 8,
   "id": "4c96ce85-7b05-47c7-a356-9202fe2917f5",
   "metadata": {},
   "outputs": [
    {
     "data": {
      "text/plain": [
       "Data(x=[34, 34], edge_index=[2, 156], y=[34], train_mask=[34])"
      ]
     },
     "execution_count": 8,
     "metadata": {},
     "output_type": "execute_result"
    }
   ],
   "source": [
    "data"
   ]
  },
  {
   "cell_type": "code",
   "execution_count": 9,
   "id": "2ebabec9-0737-494b-ab23-d51e0e7ef10a",
   "metadata": {},
   "outputs": [
    {
     "name": "stdout",
     "output_type": "stream",
     "text": [
      "Epoch: 000, Loss: 1.3843\n",
      "Epoch: 001, Loss: 1.4545\n",
      "Epoch: 002, Loss: 1.4109\n",
      "Epoch: 003, Loss: 1.4288\n",
      "Epoch: 004, Loss: 1.4191\n",
      "Epoch: 005, Loss: 1.4068\n",
      "Epoch: 006, Loss: 1.3683\n",
      "Epoch: 007, Loss: 1.3694\n",
      "Epoch: 008, Loss: 1.4074\n",
      "Epoch: 009, Loss: 1.3300\n"
     ]
    }
   ],
   "source": [
    "optimizer = torch.optim.Adam(model.parameters(), lr=0.01, weight_decay=5e-4)\n",
    "criterion = torch.nn.CrossEntropyLoss()\n",
    "lossArr = []\n",
    "num_epochs = 10\n",
    "\n",
    "def train():\n",
    "    model.train()\n",
    "    optimizer.zero_grad()\n",
    "    out = model(data.x, data.edge_index)\n",
    "    loss = criterion(out[data.train_mask], data.y[data.train_mask])\n",
    "    loss.backward()\n",
    "    optimizer.step()\n",
    "    return loss\n",
    "\n",
    "for epoch in range(num_epochs):\n",
    "    loss = train()\n",
    "    lossArr.append(loss.item())\n",
    "    print(f'Epoch: {epoch:03d}, Loss: {loss:.4f}')"
   ]
  },
  {
   "cell_type": "markdown",
   "id": "f042d670-1987-46d1-943b-f134d61e8f1c",
   "metadata": {
    "tags": []
   },
   "source": [
    "## Original GAT"
   ]
  },
  {
   "cell_type": "code",
   "execution_count": 10,
   "id": "11b6b317-4a9e-4978-bb9a-8dfeba207a75",
   "metadata": {},
   "outputs": [
    {
     "name": "stdout",
     "output_type": "stream",
     "text": [
      "GAT(\n",
      "  (conv1): GATConv(34, 16, heads=8)\n",
      "  (conv2): GATConv(128, 4, heads=8)\n",
      ")\n"
     ]
    }
   ],
   "source": [
    "from torch_geometric.nn import GATConv\n",
    "\n",
    "class GAT(nn.Module):\n",
    "    def __init__(self, hidden_channels, heads):\n",
    "        super().__init__()\n",
    "        torch.manual_seed(1234)\n",
    "        self.conv1 = GATConv(data.num_features, hidden_channels, heads)\n",
    "        self.conv2 = GATConv(heads * hidden_channels, dataset.num_classes, heads)\n",
    "        \n",
    "    def forward(self, x, edge_index):\n",
    "        x = F.dropout(x, p=0.6, training=self.training)\n",
    "        x = self.conv1(x, edge_index)\n",
    "        x = F.relu(x)\n",
    "        x = F.dropout(x, p=0.6, training=self.training)\n",
    "        x = self.conv2(x, edge_index)\n",
    "        return x\n",
    "    \n",
    "model = GAT(hidden_channels=16, heads=8)    \n",
    "print(model)"
   ]
  },
  {
   "cell_type": "code",
   "execution_count": 11,
   "id": "633e4692-6c67-4b59-aaf8-d4105b34cffd",
   "metadata": {},
   "outputs": [
    {
     "name": "stdout",
     "output_type": "stream",
     "text": [
      "Epoch: 000, Loss: 3.4951\n",
      "Epoch: 001, Loss: 3.3172\n",
      "Epoch: 002, Loss: 3.2252\n",
      "Epoch: 003, Loss: 3.0916\n",
      "Epoch: 004, Loss: 3.0681\n",
      "Epoch: 005, Loss: 2.8321\n",
      "Epoch: 006, Loss: 2.6403\n",
      "Epoch: 007, Loss: 2.6831\n",
      "Epoch: 008, Loss: 2.2614\n",
      "Epoch: 009, Loss: 2.2220\n"
     ]
    }
   ],
   "source": [
    "optimizer = torch.optim.Adam(model.parameters(), lr=0.01, weight_decay=5e-4)\n",
    "criterion = torch.nn.CrossEntropyLoss()\n",
    "lossArr = []\n",
    "num_epochs = 10\n",
    "\n",
    "def train():\n",
    "    model.train()\n",
    "    optimizer.zero_grad()\n",
    "    out = model(data.x, data.edge_index)\n",
    "    loss = criterion(out[data.train_mask], data.y[data.train_mask])\n",
    "    loss.backward()\n",
    "    optimizer.step()\n",
    "    return loss\n",
    "\n",
    "for epoch in range(num_epochs):\n",
    "    loss = train()\n",
    "    lossArr.append(loss.item())\n",
    "    print(f'Epoch: {epoch:03d}, Loss: {loss:.4f}')"
   ]
  }
 ],
 "metadata": {
  "kernelspec": {
   "display_name": "Python (pytorch)",
   "language": "python",
   "name": "pytorch"
  },
  "language_info": {
   "codemirror_mode": {
    "name": "ipython",
    "version": 3
   },
   "file_extension": ".py",
   "mimetype": "text/x-python",
   "name": "python",
   "nbconvert_exporter": "python",
   "pygments_lexer": "ipython3",
   "version": "3.9.16"
  }
 },
 "nbformat": 4,
 "nbformat_minor": 5
}
